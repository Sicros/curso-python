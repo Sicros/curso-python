{
 "cells": [
  {
   "cell_type": "code",
   "execution_count": 13,
   "id": "a91cbbe3-8f03-49b0-a3e0-3a34e7b79f05",
   "metadata": {},
   "outputs": [],
   "source": [
    "oro = \"5:47,914\"\n",
    "plata = \"6:01,013\"\n",
    "bronce = \"6:03,607\""
   ]
  },
  {
   "cell_type": "code",
   "execution_count": 98,
   "id": "3a8ddbd1-523c-4ea5-a644-ebe8765ddeb0",
   "metadata": {},
   "outputs": [],
   "source": [
    "def medalla_conseguida(tiempos, oro, plata, bronce):\n",
    "    output = [0, 0, 0]\n",
    "    i = 0\n",
    "    while i < len(tiempos):\n",
    "        if tiempos[i] < oro:\n",
    "            output[0] = output[0] + 1\n",
    "        elif tiempos[i] < plata:\n",
    "            output[1] = output[1] + 1\n",
    "        elif tiempos[i] < bronce:\n",
    "            output[2] = output[2] + 1\n",
    "        i = i + 1\n",
    "    return output\n",
    "\n",
    "def tiempo_a_segundos(time_string, transform_seconds=[1, 60, 60*60, 24*60*60]):\n",
    "    time_string = time_string.replace(\",\", \".\").split(\":\")\n",
    "    i = len(time_string)-1\n",
    "    output = 0\n",
    "    while i >= 0:\n",
    "        output = output + float(time_string[i])*transform_seconds[len(time_string)-1-i]\n",
    "        i = i - 1\n",
    "    return output\n",
    "\n",
    "def segundos_a_tiempo(segundos):\n",
    "    tiempo = []\n",
    "    if segundos >= 60:\n",
    "        tiempo.append(str(int(segundos // 60)).zfill(0))\n",
    "        segundos = round(segundos % 60, 3)\n",
    "    tiempo.append(\"{:06.3f}\".format(segundos))\n",
    "    output = \":\".join(tiempo).replace(\".\", \",\")\n",
    "    return output\n",
    "\n",
    "def ordenar_lista(lista, orden=\"asc\"):\n",
    "    i = 0\n",
    "    while i < len(lista):\n",
    "        j = i + 1\n",
    "        while j < len(lista):\n",
    "            if orden == \"asc\":\n",
    "                if lista[i] > lista[j]:\n",
    "                    aux = lista[i]\n",
    "                    lista[i] = lista[j]\n",
    "                    lista[j] = aux\n",
    "            elif orden == \"desc\":\n",
    "                if lista[i] < lista[j]:\n",
    "                    aux = lista[i]\n",
    "                    lista[i] = lista[j]\n",
    "                    lista[j] = aux\n",
    "            j = j + 1\n",
    "        i = i + 1\n",
    "    return lista"
   ]
  },
  {
   "cell_type": "code",
   "execution_count": 47,
   "id": "3aed0676-ceca-409f-b114-5908f8935d57",
   "metadata": {},
   "outputs": [],
   "source": [
    "oro_seg = tiempo_a_segundos(oro)\n",
    "plata_seg = tiempo_a_segundos(plata)\n",
    "bronce_seg = tiempo_a_segundos(bronce)"
   ]
  },
  {
   "cell_type": "code",
   "execution_count": 42,
   "id": "1a54d0e2-5f8d-4aa3-a805-f41377d69e57",
   "metadata": {},
   "outputs": [
    {
     "name": "stdin",
     "output_type": "stream",
     "text": [
      "Número de veces que ha completado el circuito: 5\n"
     ]
    }
   ],
   "source": [
    "n = int(input(\"Número de veces que ha completado el circuito:\"))"
   ]
  },
  {
   "cell_type": "code",
   "execution_count": 110,
   "id": "542304a4-05b1-4119-8c75-ded4d7aa8ec8",
   "metadata": {},
   "outputs": [
    {
     "name": "stdin",
     "output_type": "stream",
     "text": [
      "tiempo 1: 6:07,394\n",
      "tiempo 2: 6:01,348\n",
      "tiempo 3: 5:30,120\n",
      "tiempo 4: 6:02,146\n",
      "tiempo 5: 6:03,408\n"
     ]
    }
   ],
   "source": [
    "i = 1\n",
    "tiempos = []\n",
    "tiempos_seg = []\n",
    "while i <= n:\n",
    "    tiempo = input(\"tiempo {}:\".format(i))\n",
    "    tiempos.append(tiempo)\n",
    "    tiempos_seg.append(tiempo_a_segundos(tiempo))\n",
    "    i = i + 1"
   ]
  },
  {
   "cell_type": "code",
   "execution_count": 115,
   "id": "bfc13f3e-54bf-4dd7-9325-673416ce6a7b",
   "metadata": {},
   "outputs": [],
   "source": [
    "tiempos_seg = ordenar_lista(tiempos_seg, \"asc\")\n",
    "mejor = segundos_a_tiempo(tiempos_seg[0])\n",
    "peor = segundos_a_tiempo(tiempos_seg[-1])\n",
    "medallas = medalla_conseguida(tiempos_seg, oro_seg, plata_seg, bronce_seg)\n",
    "i = 0\n",
    "while i < len(tiempos_seg):\n",
    "    tiempos[i] = segundos_a_tiempo(tiempos_seg[i])\n",
    "    i = i + 1"
   ]
  },
  {
   "cell_type": "code",
   "execution_count": 117,
   "id": "4b446d2b-b504-4280-9ea6-b56794424356",
   "metadata": {},
   "outputs": [
    {
     "name": "stdout",
     "output_type": "stream",
     "text": [
      "Mejor tiempo: 5:30,120\n",
      "Peor tiempo: 6:07,394\n",
      "Oro: 1\n",
      "Plata: 0\n",
      "Bronce: 3\n"
     ]
    }
   ],
   "source": [
    "print(\"Mejor tiempo: {}\".format(mejor))\n",
    "print(\"Peor tiempo: {}\".format(peor))\n",
    "print(\"Oro: {}\".format(medallas[0]))\n",
    "print(\"Plata: {}\".format(medallas[1]))\n",
    "print(\"Bronce: {}\".format(medallas[2]))"
   ]
  }
 ],
 "metadata": {
  "kernelspec": {
   "display_name": "Python 3 (ipykernel)",
   "language": "python",
   "name": "python3"
  },
  "language_info": {
   "codemirror_mode": {
    "name": "ipython",
    "version": 3
   },
   "file_extension": ".py",
   "mimetype": "text/x-python",
   "name": "python",
   "nbconvert_exporter": "python",
   "pygments_lexer": "ipython3",
   "version": "3.9.12"
  }
 },
 "nbformat": 4,
 "nbformat_minor": 5
}
