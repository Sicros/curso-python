{
 "cells": [
  {
   "cell_type": "code",
   "execution_count": 2,
   "id": "a91cbbe3-8f03-49b0-a3e0-3a34e7b79f05",
   "metadata": {},
   "outputs": [],
   "source": [
    "oro = \"5:47,914\"\n",
    "plata = \"6:01,013\"\n",
    "bronce = \"6:03,607\""
   ]
  },
  {
   "cell_type": "code",
   "execution_count": null,
   "id": "1c49852c-12f6-4939-b25e-83e795e962c4",
   "metadata": {},
   "outputs": [],
   "source": [
    "#tiempo_a_segundos()\n",
    "#\"5:47,914\" -> 347.914\n",
    "\n",
    "#segundos_a_tiempo()\n",
    "#347.914 -> \"5:47,914\""
   ]
  },
  {
   "cell_type": "code",
   "execution_count": 36,
   "id": "317e09a7-2268-4e5a-8111-bec4f38da021",
   "metadata": {},
   "outputs": [
    {
     "name": "stdout",
     "output_type": "stream",
     "text": [
      "5:47,914\n",
      "['5', '47.914']\n",
      "5:47,914\n"
     ]
    }
   ],
   "source": [
    "print(segundos_a_tiempo(347.914))\n",
    "#Paso a paso\n",
    "segundos = 347.914\n",
    "tiempo = [] #Almacenar cada unidad tiempo (segundos, minutos, horas, etc)\n",
    "\n",
    "if segundos >= 60: #Se pregunta si el valor es mayor a 60 para ver si es necesario llevarlo a minutos\n",
    "    #Primero se hace una división entera, para solo obtener la parte entera del número\n",
    "    #El valor devuelvo es en float, por lo que se transforma a entero con \"int()\"\n",
    "    #Dado que el valor final es un texto, se transforma a string con el comando \"str()\"\n",
    "    tiempo.append(str(int(segundos // 60)))\n",
    "    #Obtener el resto de la división, es decir, lo que sobra del resultado entero.\n",
    "    segundos = round(segundos % 60, 3)\n",
    "\n",
    "##\n",
    "##Explicación {:06.3f}\n",
    "## \":\" -> Formato númerico para imprimir de forma definida\n",
    "## \"06\" - > El \"0\" es indicar que el número debe ser rellenado con 0 a la izquierda en la parte entera, mientras el \"6\"\n",
    "# mientras que el \"6\" indica el total de carácteres que tendrá el valor a imprimir (incluyendo el \".\")\n",
    "##\n",
    "## \".3f\" -> Esto indica que es un valor de tipo y cuantos decimales debe imprimir el número\n",
    "tiempo.append(\"{:06.3f}\".format(segundos))\n",
    "\n",
    "## \"[VALOR]\".join(lista): Unir cada elemento de una lista en un único string separado por el carácter que uno ingrese en [VALOR].\n",
    "output = \":\".join(tiempo).replace(\".\", \",\")\n",
    "print(tiempo)\n",
    "print(output)"
   ]
  },
  {
   "cell_type": "code",
   "execution_count": 21,
   "id": "41b78ca4-5dc4-4b42-97cc-f991804d519a",
   "metadata": {},
   "outputs": [
    {
     "name": "stdout",
     "output_type": "stream",
     "text": [
      "El valor es 4\n",
      "El valor ahora es 8 es resultado de 4+4\n",
      "El valor ahora es 6 es resultado de 3+3\n"
     ]
    }
   ],
   "source": [
    "#Asignación de parámetros\n",
    "valor = 4\n",
    "valor2 = 8\n",
    "print(\"El valor es %d\" % valor)\n",
    "print(\"El valor ahora es {} es resultado de {}+{}\".format(valor2, 4, 4))\n",
    "print(\"El valor ahora es {0} es resultado de {1}+{1}\".format(6, 3))"
   ]
  },
  {
   "cell_type": "code",
   "execution_count": 42,
   "id": "3a8ddbd1-523c-4ea5-a644-ebe8765ddeb0",
   "metadata": {},
   "outputs": [],
   "source": [
    "def medalla_conseguida(tiempos, oro, plata, bronce):\n",
    "    output = [0, 0, 0]\n",
    "    i = 0\n",
    "    while i < len(tiempos):\n",
    "        if tiempos[i] < oro:\n",
    "            output[0] = output[0] + 1\n",
    "        elif tiempos[i] < plata:\n",
    "            output[1] = output[1] + 1\n",
    "        elif tiempos[i] < bronce:\n",
    "            output[2] = output[2] + 1\n",
    "        i = i + 1\n",
    "    return output\n",
    "\n",
    "def tiempo_a_segundos(time_string, transform_seconds=[60, 1]):\n",
    "    time_string = time_string.replace(\",\", \".\").split(\":\")\n",
    "    i = len(time_string)-1\n",
    "    output = 0\n",
    "    while i >= 0:\n",
    "        output = output + float(time_string[i])*transform_seconds[i]\n",
    "        i = i - 1\n",
    "    return output\n",
    "\n",
    "# def tiempo_a_segundos(time_string):\n",
    "#     time_string = time_string.replace(\",\", \".\").split(\":\")\n",
    "#     output = time_string[0]*60 + time_string[1]\n",
    "#     return output\n",
    "\n",
    "def segundos_a_tiempo(segundos):\n",
    "    tiempo = []\n",
    "    if segundos >= 60:\n",
    "        tiempo.append(str(int(segundos // 60)))\n",
    "        segundos = round(segundos % 60, 3)\n",
    "    tiempo.append(\"{:06.3f}\".format(segundos))\n",
    "    output = \":\".join(tiempo).replace(\".\", \",\")\n",
    "    return output\n",
    "\n",
    "def ordenar_lista(lista, orden=\"asc\"):\n",
    "    i = 0\n",
    "    while i < len(lista):\n",
    "        j = i + 1\n",
    "        while j < len(lista):\n",
    "            if orden == \"asc\":\n",
    "                if lista[i] > lista[j]:\n",
    "                    aux = lista[i]\n",
    "                    lista[i] = lista[j]\n",
    "                    lista[j] = aux\n",
    "            elif orden == \"desc\":\n",
    "                if lista[i] < lista[j]:\n",
    "                    aux = lista[i]\n",
    "                    lista[i] = lista[j]\n",
    "                    lista[j] = aux\n",
    "            j = j + 1\n",
    "        i = i + 1\n",
    "    return lista"
   ]
  },
  {
   "cell_type": "code",
   "execution_count": 46,
   "id": "3aed0676-ceca-409f-b114-5908f8935d57",
   "metadata": {},
   "outputs": [],
   "source": [
    "oro_seg = tiempo_a_segundos(oro)\n",
    "plata_seg = tiempo_a_segundos(plata)\n",
    "bronce_seg = tiempo_a_segundos(bronce)"
   ]
  },
  {
   "cell_type": "code",
   "execution_count": 37,
   "id": "1a54d0e2-5f8d-4aa3-a805-f41377d69e57",
   "metadata": {},
   "outputs": [
    {
     "name": "stdin",
     "output_type": "stream",
     "text": [
      "Número de veces que ha completado el circuito: 3\n"
     ]
    }
   ],
   "source": [
    "n = int(input(\"Número de veces que ha completado el circuito:\"))"
   ]
  },
  {
   "cell_type": "code",
   "execution_count": 43,
   "id": "542304a4-05b1-4119-8c75-ded4d7aa8ec8",
   "metadata": {},
   "outputs": [
    {
     "name": "stdin",
     "output_type": "stream",
     "text": [
      "tiempo 1: 5:18,212\n",
      "tiempo 2: 6:48,36\n",
      "tiempo 3: 11:54,321\n"
     ]
    }
   ],
   "source": [
    "i = 1\n",
    "tiempos = []\n",
    "tiempos_seg = []\n",
    "while i <= n:\n",
    "    tiempo = input(\"tiempo {}:\".format(i))\n",
    "    tiempos.append(tiempo)\n",
    "    tiempos_seg.append(tiempo_a_segundos(tiempo))\n",
    "    i = i + 1"
   ]
  },
  {
   "cell_type": "code",
   "execution_count": 50,
   "id": "e28e0ac5-5ff9-4995-89e7-dcef55da5c04",
   "metadata": {},
   "outputs": [
    {
     "name": "stdout",
     "output_type": "stream",
     "text": [
      "Lista de tiempos:\n",
      "[318.212, 408.36, 714.321]\n"
     ]
    }
   ],
   "source": [
    "## Lista de tiempos\n",
    "print(\"Lista de tiempos:\")\n",
    "tiempos_seg = ordenar_lista(tiempos_seg, \"asc\")\n",
    "print(tiempos_seg)"
   ]
  },
  {
   "cell_type": "code",
   "execution_count": 51,
   "id": "7c4a3e2e-d261-4258-9eca-8321a76839a2",
   "metadata": {},
   "outputs": [
    {
     "name": "stdout",
     "output_type": "stream",
     "text": [
      "Mejor tiempo:\n",
      "318.212\n",
      "5:18,212\n"
     ]
    }
   ],
   "source": [
    "## Mejor tiempo\n",
    "print(\"Mejor tiempo:\")\n",
    "mejor = segundos_a_tiempo(tiempos_seg[0])\n",
    "print(tiempos_seg[0])\n",
    "print(mejor)"
   ]
  },
  {
   "cell_type": "code",
   "execution_count": 52,
   "id": "95ccc543-cff1-43c0-bde3-5f82fc611e76",
   "metadata": {},
   "outputs": [
    {
     "name": "stdout",
     "output_type": "stream",
     "text": [
      "Peor tiempo:\n",
      "714.321\n",
      "11:54,321\n"
     ]
    }
   ],
   "source": [
    "## Peor tiempo\n",
    "print(\"Peor tiempo:\")\n",
    "peor = segundos_a_tiempo(tiempos_seg[-1])\n",
    "print(tiempos_seg[-1])\n",
    "print(peor)"
   ]
  },
  {
   "cell_type": "code",
   "execution_count": 53,
   "id": "c302badb-8126-477b-b76b-b70ea8fbda08",
   "metadata": {},
   "outputs": [
    {
     "name": "stdout",
     "output_type": "stream",
     "text": [
      "Medallas ([Oro, Plata, Bronce]):\n",
      "[1, 0, 0]\n"
     ]
    }
   ],
   "source": [
    "## Medallas ordenadas en la lista de acuerdo al siguiente criterio (Oro, Plata, Bronce)\n",
    "print(\"Medallas ([Oro, Plata, Bronce]):\")\n",
    "medallas = medalla_conseguida(tiempos_seg, oro_seg, plata_seg, bronce_seg)\n",
    "print(medallas)"
   ]
  },
  {
   "cell_type": "code",
   "execution_count": 54,
   "id": "bfc13f3e-54bf-4dd7-9325-673416ce6a7b",
   "metadata": {},
   "outputs": [
    {
     "name": "stdout",
     "output_type": "stream",
     "text": [
      "Tiempos (formato texto):\n",
      "['5:18,212', '6:48,360', '11:54,321']\n"
     ]
    }
   ],
   "source": [
    "## Transformación de tiempos ordenados a formato de texto\n",
    "print(\"Tiempos (formato texto):\")\n",
    "i = 0\n",
    "while i < len(tiempos_seg):\n",
    "    tiempos[i] = segundos_a_tiempo(tiempos_seg[i])\n",
    "    i = i + 1\n",
    "print(tiempos)"
   ]
  },
  {
   "cell_type": "code",
   "execution_count": 49,
   "id": "4b446d2b-b504-4280-9ea6-b56794424356",
   "metadata": {},
   "outputs": [
    {
     "name": "stdout",
     "output_type": "stream",
     "text": [
      "Mejor tiempo: 5:18,212\n",
      "Peor tiempo: 11:54,321\n",
      "Oro: 1\n",
      "Plata: 0\n",
      "Bronce: 0\n",
      "\n",
      "Tiempos ordenados:\n",
      "5:18,212\n",
      "6:48,360\n",
      "11:54,321\n"
     ]
    }
   ],
   "source": [
    "print(\"Mejor tiempo: {}\".format(mejor))\n",
    "print(\"Peor tiempo: {}\".format(peor))\n",
    "print(\"Oro: {}\".format(medallas[0]))\n",
    "print(\"Plata: {}\".format(medallas[1]))\n",
    "print(\"Bronce: {}\".format(medallas[2]))\n",
    "print(\"\\nTiempos ordenados:\")\n",
    "for t in tiempos:\n",
    "    print(t)"
   ]
  }
 ],
 "metadata": {
  "kernelspec": {
   "display_name": "Python 3 (ipykernel)",
   "language": "python",
   "name": "python3"
  },
  "language_info": {
   "codemirror_mode": {
    "name": "ipython",
    "version": 3
   },
   "file_extension": ".py",
   "mimetype": "text/x-python",
   "name": "python",
   "nbconvert_exporter": "python",
   "pygments_lexer": "ipython3",
   "version": "3.9.12"
  }
 },
 "nbformat": 4,
 "nbformat_minor": 5
}
