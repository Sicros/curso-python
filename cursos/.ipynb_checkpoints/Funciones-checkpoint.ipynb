{
 "cells": [
  {
   "cell_type": "markdown",
   "id": "98d2b915-0f82-4fa4-89a5-12bdcf372711",
   "metadata": {},
   "source": [
    "<h1>Funciones</h1>\n",
    "<p>\n",
    "    En Python se pueden construir varios procesos que permiten llegar a los resultados que requerimos, como el realizar operaciones matemáticas, trabajar con cadenas de texto, etc. Muchas de estas operaciones pueden ser requeridas para ser aplicadas más de una vez, ajustando ciertos valores. Veamos un ejemplo\n",
    "</p>\n",
    "<p>\n",
    "    Si quisieramos imprimir un mensaje de bienvenida para saludar a una persona, se podría hacer de la siguiente forma:\n",
    "</p>"
   ]
  },
  {
   "cell_type": "code",
   "execution_count": 6,
   "id": "89abf744-0c79-41c1-a0dc-9586cf6f9f29",
   "metadata": {},
   "outputs": [
    {
     "name": "stdout",
     "output_type": "stream",
     "text": [
      "Hola ! Te doy la bienvenida a este pequeño curso, Juan !\n"
     ]
    }
   ],
   "source": [
    "print(\"Hola ! Te doy la bienvenida a este pequeño curso, Juan !\")"
   ]
  },
  {
   "cell_type": "markdown",
   "id": "cab8d577-2b2e-43ee-ab49-e33c40513487",
   "metadata": {},
   "source": [
    "<p>\n",
    "    La instrucción es bastante simple y directa, ¿cierto? Es solo escribir un mensaje de texto e imprimirlo con la función <code>print()</code>... Ahora, ¿qué sucedería llegan más de un usuario? Imaginemos fuesen 3, habría que escribir 3 veces el mismo comando.\n",
    "</p>"
   ]
  },
  {
   "cell_type": "code",
   "execution_count": 7,
   "id": "26d0d625-17b4-4318-9759-2b49cb830927",
   "metadata": {},
   "outputs": [
    {
     "name": "stdout",
     "output_type": "stream",
     "text": [
      "Hola ! Te doy la bienvenida a este pequeño curso, Juan !\n",
      "Hola ! Te doy la bienvenida a este pequeño curso, Karina !\n",
      "Hola ! Te doy la bienvenida a este pequeño curso, Carlos !\n"
     ]
    }
   ],
   "source": [
    "print(\"Hola ! Te doy la bienvenida a este pequeño curso, Juan !\")\n",
    "print(\"Hola ! Te doy la bienvenida a este pequeño curso, Karina !\")\n",
    "print(\"Hola ! Te doy la bienvenida a este pequeño curso, Carlos !\")"
   ]
  },
  {
   "cell_type": "markdown",
   "id": "86e70f52-bd8c-43d5-8d43-e80a7b8dd1b0",
   "metadata": {},
   "source": [
    "<p>\n",
    "    Ahora imaginemos que fuesen 10, 50, 100, 5000 usuarios... Y eso que lo único que estamos haciendo es imprimir un mensaje, en el momento que la operación que necesitemos hacer sea mucho más grande, sería aún peor.\n",
    "</p>\n",
    "<center>\n",
    "    <img src=\"https://i.giphy.com/media/vPN3zK9dNL236/giphy.webp\">\n",
    "</center>"
   ]
  },
  {
   "cell_type": "markdown",
   "id": "c8d99540-a4e2-4583-90c8-f360071ff088",
   "metadata": {},
   "source": [
    "<p>Es por esto que el uso de una función ayuda en muchos sentidos. Veremos como implementar una función mucho más básico, recibiendo distintas clases de parámetros y distintas operaciones.</p>"
   ]
  },
  {
   "cell_type": "markdown",
   "id": "092a2cc0-6205-4804-a064-43c85def1187",
   "metadata": {},
   "source": [
    "<h2>Mi primera función</h2>\n",
    "<p>\n",
    "    Retomaremos el caso anterior. Crearemos una función que reciba como parámetro el nombre de un usuario y devuelva el mensaje de bienvenida ya impreso.\n",
    "</p>"
   ]
  },
  {
   "cell_type": "code",
   "execution_count": 8,
   "id": "ef3a4dea-9cfa-41a2-b06a-6daa8990278a",
   "metadata": {},
   "outputs": [],
   "source": [
    "def bienvenida_usuario(nombre):\n",
    "    print(\"Hola ! Te doy la bienvenida a este pequeño curso, \" + nombre + \" !\")"
   ]
  },
  {
   "cell_type": "markdown",
   "id": "bd74878f-d01a-4248-bed8-5c2e71a728e1",
   "metadata": {},
   "source": [
    "<p>\n",
    "    En este caso la función se define con el comando <code>def</code> seguido por el nombre que tendrá la función. Dentro del parentesis se pueden entregar 1 o más parámetros (incluso ninguno), el cual será reemplazado por el valor que queramos entregar, que para este caso es lo mismo que entregar el nombre del usuario a quien queremos saludar.\n",
    "</p>\n",
    "<p>\n",
    "    Luego la función es invocada simplemente llamandola por su nombre y entregandole los parámetros que requiere.\n",
    "</p>"
   ]
  },
  {
   "cell_type": "code",
   "execution_count": 9,
   "id": "79ca4a81-48ce-4884-b3af-c0c086869a4f",
   "metadata": {},
   "outputs": [
    {
     "name": "stdout",
     "output_type": "stream",
     "text": [
      "Hola ! Te doy la bienvenida a este pequeño curso, Juan !\n",
      "Hola ! Te doy la bienvenida a este pequeño curso, Karina !\n",
      "Hola ! Te doy la bienvenida a este pequeño curso, Carlos !\n"
     ]
    }
   ],
   "source": [
    "bienvenida_usuario(\"Juan\")\n",
    "bienvenida_usuario(\"Karina\")\n",
    "bienvenida_usuario(\"Carlos\")"
   ]
  },
  {
   "cell_type": "markdown",
   "id": "5e2818cf-b405-4736-aa61-44eedd091115",
   "metadata": {},
   "source": [
    "<h2>Parámetros predefinidos</h2>\n",
    "<p>\n",
    "    También conocidos como valores default, corresponden a aquellos parámetros que vienen con un valor predefinido, por lo que no es obligación ingresar uno al momento de invocar la función. Estos se establecen al momento de definir la función.\n",
    "</p>\n",
    "<p>\n",
    "    Supongamos que ahora nuestra función recibirá dos parámetros y, además del nombre, ahora también se entregará el momento del día para dar un saludo mucho más personalizado. Igualmente se debe tener en cuenta que no siempre se podrá obtener este segundo parámetro, por lo que se debe agregar un saludo genérico, por las dudas. La función quedaría de la siguiente forma:\n",
    "</p>"
   ]
  },
  {
   "cell_type": "code",
   "execution_count": 13,
   "id": "fd10d1d0-1946-4061-bbe8-5870effb12d7",
   "metadata": {},
   "outputs": [],
   "source": [
    "def bienvenida_personalizada(nombre, momento=\"\"):\n",
    "    if momento == \"mañana\":\n",
    "        print(\"Buenos días ! Te doy la bienvenida a este pequeño curso, \" + nombre + \" !\")\n",
    "    elif momento == \"tarde\":\n",
    "        print(\"Buenas tardes ! Te doy la bienvenida a este pequeño curso, \" + nombre + \" !\")\n",
    "    elif momento == \"noche\":\n",
    "        print(\"Buenas noches ! Te doy la bienvenida a este pequeño curso, \" + nombre + \" !\")\n",
    "    else:\n",
    "        print(\"Hola ! Te doy la bienvenida a este pequeño curso, \" + nombre + \" !\")"
   ]
  },
  {
   "cell_type": "markdown",
   "id": "3cfdc244-bacc-4867-ba7b-dc2fe252a02d",
   "metadata": {},
   "source": [
    "<p>\n",
    "    Se hará la prueba con cada caso, incluso sin entregar el parámetro de momento para revisarlo los resultados que se obtienen.\n",
    "</p>"
   ]
  },
  {
   "cell_type": "code",
   "execution_count": 14,
   "id": "c1563c7e-4f02-4019-b20d-3b95fbd3a3c7",
   "metadata": {},
   "outputs": [
    {
     "name": "stdout",
     "output_type": "stream",
     "text": [
      "Buenos días ! Te doy la bienvenida a este pequeño curso, Juan !\n",
      "Buenas tardes ! Te doy la bienvenida a este pequeño curso, Karina !\n",
      "Buenas noches ! Te doy la bienvenida a este pequeño curso, Carlos !\n",
      "Hola ! Te doy la bienvenida a este pequeño curso, Amelie !\n"
     ]
    }
   ],
   "source": [
    "bienvenida_personalizada(\"Juan\", momento=\"mañana\")\n",
    "bienvenida_personalizada(\"Karina\", momento=\"tarde\")\n",
    "bienvenida_personalizada(\"Carlos\", momento=\"noche\")\n",
    "bienvenida_personalizada(\"Amelie\")"
   ]
  },
  {
   "cell_type": "markdown",
   "id": "a2799507-84a8-4435-937d-983dc66e862b",
   "metadata": {},
   "source": [
    "<p>\n",
    "    Tal como se observa en la última función, al no entregar un parámetro esta se ejecuta igualmente, debido a que se le asigna el valor que se definió con la función. Esto ayuda para, en algunas ocasiones, omitir valores que no son importantes en el proceso e incluso definir como parámetros por defecto valores que sean los más utilizados, para ahorrar tiempo al usuario.\n",
    "</p>"
   ]
  },
  {
   "cell_type": "markdown",
   "id": "bbd48abf-fdb0-4fe5-b8e2-cb2d133273e0",
   "metadata": {},
   "source": [
    "<h2>Funciones un paso más allá</h2>\n",
    "<p>\n",
    "    Mucho se ha hablado de definir una función para ahorrar tiempo, pero... ¿esto ha sido realmente así?\n",
    "</p>\n",
    "<center>\n",
    "    <img src=\"https://i.giphy.com/media/CggoHW4h87Ktq/giphy.webp\">\n",
    "</center>\n",
    "<p>\n",
    "    No te preocupes, que lo anterior fue una introducción.\n",
    "</p>"
   ]
  }
 ],
 "metadata": {
  "kernelspec": {
   "display_name": "Python 3 (ipykernel)",
   "language": "python",
   "name": "python3"
  },
  "language_info": {
   "codemirror_mode": {
    "name": "ipython",
    "version": 3
   },
   "file_extension": ".py",
   "mimetype": "text/x-python",
   "name": "python",
   "nbconvert_exporter": "python",
   "pygments_lexer": "ipython3",
   "version": "3.9.12"
  }
 },
 "nbformat": 4,
 "nbformat_minor": 5
}
