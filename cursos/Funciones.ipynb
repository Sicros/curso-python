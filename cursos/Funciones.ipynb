{
 "cells": [
  {
   "cell_type": "markdown",
   "id": "98d2b915-0f82-4fa4-89a5-12bdcf372711",
   "metadata": {},
   "source": [
    "<h1>Funciones</h1>\n",
    "<p>\n",
    "    En Python se pueden construir varios procesos que permiten llegar a los resultados que requerimos, como el realizar operaciones matemáticas, trabajar con cadenas de texto, etc. Muchas de estas operaciones pueden ser requeridas para ser aplicadas más de una vez, ajustando ciertos valores. Veamos un ejemplo\n",
    "</p>\n",
    "<p>\n",
    "    Si quisieramos imprimir un mensaje de bienvenida para saludar a una persona, se podría hacer de la siguiente forma:\n",
    "</p>"
   ]
  },
  {
   "cell_type": "code",
   "execution_count": 6,
   "id": "89abf744-0c79-41c1-a0dc-9586cf6f9f29",
   "metadata": {},
   "outputs": [
    {
     "name": "stdout",
     "output_type": "stream",
     "text": [
      "Hola ! Te doy la bienvenida a este pequeño curso, Juan !\n"
     ]
    }
   ],
   "source": [
    "print(\"Hola ! Te doy la bienvenida a este pequeño curso, Juan !\")"
   ]
  },
  {
   "cell_type": "markdown",
   "id": "cab8d577-2b2e-43ee-ab49-e33c40513487",
   "metadata": {},
   "source": [
    "<p>\n",
    "    La instrucción es bastante simple y directa, ¿cierto? Es solo escribir un mensaje de texto e imprimirlo con la función <code>print()</code>... Ahora, ¿qué sucedería llegan más de un usuario? Imaginemos fuesen 3, habría que escribir 3 veces el mismo comando.\n",
    "</p>"
   ]
  },
  {
   "cell_type": "code",
   "execution_count": 7,
   "id": "26d0d625-17b4-4318-9759-2b49cb830927",
   "metadata": {},
   "outputs": [
    {
     "name": "stdout",
     "output_type": "stream",
     "text": [
      "Hola ! Te doy la bienvenida a este pequeño curso, Juan !\n",
      "Hola ! Te doy la bienvenida a este pequeño curso, Karina !\n",
      "Hola ! Te doy la bienvenida a este pequeño curso, Carlos !\n"
     ]
    }
   ],
   "source": [
    "print(\"Hola ! Te doy la bienvenida a este pequeño curso, Juan !\")\n",
    "print(\"Hola ! Te doy la bienvenida a este pequeño curso, Karina !\")\n",
    "print(\"Hola ! Te doy la bienvenida a este pequeño curso, Carlos !\")"
   ]
  },
  {
   "cell_type": "markdown",
   "id": "86e70f52-bd8c-43d5-8d43-e80a7b8dd1b0",
   "metadata": {},
   "source": [
    "<p>\n",
    "    Ahora imaginemos que fuesen 10, 50, 100, 5000 usuarios... Y eso que lo único que estamos haciendo es imprimir un mensaje, en el momento que la operación que necesitemos hacer sea mucho más grande, sería aún peor.\n",
    "</p>\n",
    "<center>\n",
    "    <img src=\"https://i.giphy.com/media/vPN3zK9dNL236/giphy.webp\">\n",
    "</center>"
   ]
  },
  {
   "cell_type": "markdown",
   "id": "c8d99540-a4e2-4583-90c8-f360071ff088",
   "metadata": {},
   "source": [
    "<p>Es por esto que el uso de una función ayuda en muchos sentidos. Veremos como implementar una función mucho más básico, recibiendo distintas clases de parámetros y distintas operaciones.</p>"
   ]
  },
  {
   "cell_type": "markdown",
   "id": "092a2cc0-6205-4804-a064-43c85def1187",
   "metadata": {},
   "source": [
    "<h2>Mi primera función</h2>\n",
    "<p>\n",
    "    Retomaremos el caso anterior. Crearemos una función que reciba como parámetro el nombre de un usuario y devuelva el mensaje de bienvenida ya impreso.\n",
    "</p>"
   ]
  },
  {
   "cell_type": "code",
   "execution_count": 8,
   "id": "ef3a4dea-9cfa-41a2-b06a-6daa8990278a",
   "metadata": {},
   "outputs": [],
   "source": [
    "def bienvenida_usuario(nombre):\n",
    "    print(\"Hola ! Te doy la bienvenida a este pequeño curso, \" + nombre + \" !\")"
   ]
  },
  {
   "cell_type": "markdown",
   "id": "bd74878f-d01a-4248-bed8-5c2e71a728e1",
   "metadata": {},
   "source": [
    "<p>\n",
    "    En este caso la función se define con el comando <code>def</code> seguido por el nombre que tendrá la función. Dentro del parentesis se pueden entregar 1 o más parámetros (incluso ninguno), el cual será reemplazado por el valor que queramos entregar, que para este caso es lo mismo que entregar el nombre del usuario a quien queremos saludar.\n",
    "</p>\n",
    "<p>\n",
    "    Luego la función es invocada simplemente llamandola por su nombre y entregandole los parámetros que requiere.\n",
    "</p>"
   ]
  },
  {
   "cell_type": "code",
   "execution_count": 9,
   "id": "79ca4a81-48ce-4884-b3af-c0c086869a4f",
   "metadata": {},
   "outputs": [
    {
     "name": "stdout",
     "output_type": "stream",
     "text": [
      "Hola ! Te doy la bienvenida a este pequeño curso, Juan !\n",
      "Hola ! Te doy la bienvenida a este pequeño curso, Karina !\n",
      "Hola ! Te doy la bienvenida a este pequeño curso, Carlos !\n"
     ]
    }
   ],
   "source": [
    "bienvenida_usuario(\"Juan\")\n",
    "bienvenida_usuario(\"Karina\")\n",
    "bienvenida_usuario(\"Carlos\")"
   ]
  },
  {
   "cell_type": "markdown",
   "id": "5e2818cf-b405-4736-aa61-44eedd091115",
   "metadata": {},
   "source": [
    "<h2>Parámetros predefinidos</h2>\n",
    "<p>\n",
    "    También conocidos como valores default, corresponden a aquellos parámetros que vienen con un valor predefinido, por lo que no es obligación ingresar uno al momento de invocar la función. Estos se establecen al momento de definir la función.\n",
    "</p>\n",
    "<p>\n",
    "    Supongamos que ahora nuestra función recibirá dos parámetros y, además del nombre, ahora también se entregará el momento del día para dar un saludo mucho más personalizado. Igualmente se debe tener en cuenta que no siempre se podrá obtener este segundo parámetro, por lo que se debe agregar un saludo genérico, por las dudas. La función quedaría de la siguiente forma:\n",
    "</p>"
   ]
  },
  {
   "cell_type": "code",
   "execution_count": 13,
   "id": "fd10d1d0-1946-4061-bbe8-5870effb12d7",
   "metadata": {},
   "outputs": [],
   "source": [
    "def bienvenida_personalizada(nombre, momento=\"\"):\n",
    "    if momento == \"mañana\":\n",
    "        print(\"Buenos días ! Te doy la bienvenida a este pequeño curso, \" + nombre + \" !\")\n",
    "    elif momento == \"tarde\":\n",
    "        print(\"Buenas tardes ! Te doy la bienvenida a este pequeño curso, \" + nombre + \" !\")\n",
    "    elif momento == \"noche\":\n",
    "        print(\"Buenas noches ! Te doy la bienvenida a este pequeño curso, \" + nombre + \" !\")\n",
    "    else:\n",
    "        print(\"Hola ! Te doy la bienvenida a este pequeño curso, \" + nombre + \" !\")"
   ]
  },
  {
   "cell_type": "markdown",
   "id": "3cfdc244-bacc-4867-ba7b-dc2fe252a02d",
   "metadata": {},
   "source": [
    "<p>\n",
    "    Se hará la prueba con cada caso, incluso sin entregar el parámetro de momento para revisarlo los resultados que se obtienen.\n",
    "</p>"
   ]
  },
  {
   "cell_type": "code",
   "execution_count": 14,
   "id": "c1563c7e-4f02-4019-b20d-3b95fbd3a3c7",
   "metadata": {},
   "outputs": [
    {
     "name": "stdout",
     "output_type": "stream",
     "text": [
      "Buenos días ! Te doy la bienvenida a este pequeño curso, Juan !\n",
      "Buenas tardes ! Te doy la bienvenida a este pequeño curso, Karina !\n",
      "Buenas noches ! Te doy la bienvenida a este pequeño curso, Carlos !\n",
      "Hola ! Te doy la bienvenida a este pequeño curso, Amelie !\n"
     ]
    }
   ],
   "source": [
    "bienvenida_personalizada(\"Juan\", momento=\"mañana\")\n",
    "bienvenida_personalizada(\"Karina\", momento=\"tarde\")\n",
    "bienvenida_personalizada(\"Carlos\", momento=\"noche\")\n",
    "bienvenida_personalizada(\"Amelie\")"
   ]
  },
  {
   "cell_type": "markdown",
   "id": "a2799507-84a8-4435-937d-983dc66e862b",
   "metadata": {},
   "source": [
    "<p>\n",
    "    Tal como se observa en la última función, al no entregar un parámetro esta se ejecuta igualmente, debido a que se le asigna el valor que se definió con la función. Esto ayuda para, en algunas ocasiones, omitir valores que no son importantes en el proceso e incluso definir como parámetros por defecto valores que sean los más utilizados, para ahorrar tiempo al usuario.\n",
    "</p>"
   ]
  },
  {
   "cell_type": "markdown",
   "id": "4c2a3576-3de5-4236-97dd-0b4956126da4",
   "metadata": {},
   "source": [
    "<h2>Retornar valor</h2>\n",
    "<p>\n",
    "   ¿Que pasa si nosotros necesitaramos obtener el resultado de una función para trabajar con él o simplemente analizarlo? Para eso nos podemos ayudar en el comando <code>return</code>. Este comando permite a la función retornar un valor que puede ser asignado en una variable. Se debe considerar que este comando, además de retornar un valor, también finaliza la ejecución de la función, por lo que si habían pasos que le seguían, estos serán omitidos.\n",
    "</p>\n",
    "<p>\n",
    "    Para entenderlo mejor, construiremos una función que tome 3 valores como parámetro, donde los primeros dos los sumará, luego el resultado será dividido por el tercero y se retornará el total, es decir:\n",
    "    $$f(a,b,c)=(a+b)/c$$\n",
    "    Además, agregaremos un pequeño mensaje después del <code>return</code>, solo para demostrar que este jamás será utilizado.\n",
    "</p>"
   ]
  },
  {
   "cell_type": "code",
   "execution_count": 26,
   "id": "27bfd352-cdf5-4a62-829d-7caf7d4336f3",
   "metadata": {},
   "outputs": [
    {
     "name": "stdout",
     "output_type": "stream",
     "text": [
      "Los valores obtenido son:  1.0 ,  5.0  y  4.25\n"
     ]
    }
   ],
   "source": [
    "def suma_y_division(a, b, c):\n",
    "    resultado = a + b\n",
    "    resultado = resultado / c\n",
    "    return resultado\n",
    "    print(\"Jamás verás este mensaje, muajajaja!!\")\n",
    "\n",
    "valor1 = suma_y_division(1, 2, 3)\n",
    "valor2 = suma_y_division(3, 2, 1)\n",
    "valor3 = suma_y_division(9, 8, 4)\n",
    "print(\"Los valores obtenido son: \", valor1, \", \", valor2, \" y \", valor3)"
   ]
  },
  {
   "cell_type": "markdown",
   "id": "7b3cfbb4-434b-4fef-9c80-24e387244788",
   "metadata": {},
   "source": [
    "<p>\n",
    "    Como se esperaba, el mensaje final, después del <code>return</code> nunca se imprimió, y los valores obtenido de cada función se pudieron almacenar en una variable, los que fueron utilizados al final para ser impresos.\n",
    "</p>"
   ]
  },
  {
   "cell_type": "markdown",
   "id": "bbd48abf-fdb0-4fe5-b8e2-cb2d133273e0",
   "metadata": {},
   "source": [
    "<h2>Funciones un paso más allá</h2>\n",
    "<p>\n",
    "    Mucho se ha hablado de definir una función para ahorrar tiempo, pero... ¿esto ha sido realmente así?\n",
    "</p>\n",
    "<center>\n",
    "    <img src=\"https://i.giphy.com/media/CggoHW4h87Ktq/giphy.webp\">\n",
    "</center>\n",
    "<p>\n",
    "    Hemos visto que, si bien, ya no hemos tenido que escribir una y otra vez el texto del saludo, igualmente necesitamos invocar la función una vez por cada usuario. Para facilitarnos la vida y hacerlo aún más simple, juntaremos lo que hemos aprendido de funciones con listas.\n",
    "</p>\n",
    "<p>\n",
    "    Esta vez ya no entregaremos un solo nombre, sino que una lista de nombres y saludaremos a cada uno de ellos. Una primera aproximación a esto, es integrar la primera función que construimos en un ciclo, para repetir el proceso y tener una primera aproximación a lo que necesitamos.\n",
    "</p>"
   ]
  },
  {
   "cell_type": "code",
   "execution_count": 17,
   "id": "0e544174-4d58-4fd9-921f-06e1e2e154d4",
   "metadata": {},
   "outputs": [
    {
     "name": "stdout",
     "output_type": "stream",
     "text": [
      "Hola ! Te doy la bienvenida a este pequeño curso, Juan !\n",
      "Hola ! Te doy la bienvenida a este pequeño curso, Karina !\n",
      "Hola ! Te doy la bienvenida a este pequeño curso, Carlos !\n",
      "Hola ! Te doy la bienvenida a este pequeño curso, Amelie !\n"
     ]
    }
   ],
   "source": [
    "nombres = [\"Juan\", \"Karina\", \"Carlos\", \"Amelie\"]\n",
    "i = 0\n",
    "while i < len(nombres):\n",
    "    bienvenida_usuario(nombres[i])\n",
    "    i = i + 1"
   ]
  },
  {
   "cell_type": "markdown",
   "id": "d7d90fec-cbc5-4908-b4ed-44e2875ed434",
   "metadata": {},
   "source": [
    "<p>\n",
    "    Se observa que se recorre la lista de nombres y se va entregando uno por uno a la función como parámetro. Ahora lo que haremos es definir una nueva función que haga todo el proceso que acabamos de hacer y que su parámetro ahora reciba una lista de nombres, en lugar de uno solo.\n",
    "</p>"
   ]
  },
  {
   "cell_type": "code",
   "execution_count": 19,
   "id": "590828d2-c69a-479c-ace5-a4e6da6b05a2",
   "metadata": {},
   "outputs": [
    {
     "name": "stdout",
     "output_type": "stream",
     "text": [
      "Hola ! Te doy la bienvenida a este pequeño curso, Juan !\n",
      "Hola ! Te doy la bienvenida a este pequeño curso, Karina !\n",
      "Hola ! Te doy la bienvenida a este pequeño curso, Carlos !\n",
      "Hola ! Te doy la bienvenida a este pequeño curso, Amelie !\n"
     ]
    }
   ],
   "source": [
    "def bienvenida_muchos_usuarios(nombres):\n",
    "    i = 0\n",
    "    while i < len(nombres):\n",
    "        print(\"Hola ! Te doy la bienvenida a este pequeño curso, \" + nombres[i] + \" !\")\n",
    "        i = i + 1\n",
    "\n",
    "nombres = [\"Juan\", \"Karina\", \"Carlos\", \"Amelie\"]\n",
    "bienvenida_muchos_usuarios(nombres)"
   ]
  },
  {
   "cell_type": "markdown",
   "id": "04a5e98f-a3ed-4069-8963-e25a72ed2d41",
   "metadata": {},
   "source": [
    "<p>\n",
    "    Y listo, ahora solo debemos llamar a la función una sola vez entregando todos los nombres en una lista y ella hará el resto del trabajo.\n",
    "</p>\n",
    "<center>\n",
    "    <img src=\"https://i.giphy.com/media/ui1hpJSyBDWlG/giphy.webp\">\n",
    "</center>"
   ]
  },
  {
   "cell_type": "markdown",
   "id": "cf53ae70-1ea1-46a7-a192-48ebc9ead9f1",
   "metadata": {},
   "source": [
    "<h2>¿Funciones dentro de funciones?...</h2>\n",
    "<p>\n",
    "    Las funciones pueden invocarse e incluso ser definidas en cualquier lugar, como dentro de otras funciones. A pesar de que pueda parecer una locura, la verdad es que a lo largo de nuestra vida nos encontraremos en muchas situaciones en las que una función requiere llamar a otra para reutilizar una transformación que por si sola ya requiere ser definida en otro lugar, pero por lo común que es no quita que se requiera en otro proceso.\n",
    "</p>\n",
    "<p>\n",
    "    Tomando el proceso que acabamos de revisar, pudimos ver que redefinimos una función para imprimir el mensaje de bienvenida de forma cíclica, pero la verdad es que no era necesario desechar la función anterior. Para entender mejor, revisemos el siguiente código.\n",
    "</p>"
   ]
  },
  {
   "cell_type": "code",
   "execution_count": 21,
   "id": "b5a4fc39-50a2-48c4-91da-8814360bbe84",
   "metadata": {},
   "outputs": [
    {
     "name": "stdout",
     "output_type": "stream",
     "text": [
      "Hola ! Te doy la bienvenida a este pequeño curso, Juan !\n",
      "Hola ! Te doy la bienvenida a este pequeño curso, Karina !\n",
      "Hola ! Te doy la bienvenida a este pequeño curso, Carlos !\n",
      "Hola ! Te doy la bienvenida a este pequeño curso, Amelie !\n"
     ]
    }
   ],
   "source": [
    "def bienvenida_muchos_usuarios_interna(nombres):\n",
    "    i = 0\n",
    "    while i < len(nombres):\n",
    "        bienvenida_usuario(nombres[i])\n",
    "        i = i + 1\n",
    "\n",
    "nombres = [\"Juan\", \"Karina\", \"Carlos\", \"Amelie\"]\n",
    "bienvenida_muchos_usuarios_interna(nombres)"
   ]
  },
  {
   "cell_type": "markdown",
   "id": "47559e94-8b2d-441c-b4b6-c17f9cc761c3",
   "metadata": {},
   "source": [
    "<p>\n",
    "    Tal como se observa, ya no se utiliza directamente el comando de imprimir, sino que se reutiliza la función de <code>bienvenida_usuario()</code> pasandola a ella el nombre del usuario para que lo imprima.\n",
    "</p>"
   ]
  },
  {
   "cell_type": "markdown",
   "id": "3a0d7374-9a53-4df3-aaa3-7bab1c741d30",
   "metadata": {},
   "source": [
    "<h2>Ultimos tips de funciones</h2>\n",
    "<p>\n",
    "    Si bien, se ha dicho que las funciones pueden ser definidas en cualquier lugar del código, siempre es recomendable mantener nuestro código organizado y dejar todas las funciones agrupadas y ordenadas, este orden puede ser por orden alfabético o por caso de uso. También considerar que son de suma importancia para ciertos procesos, como lo es la recursión que será vista más adelante.\n",
    "</p>\n",
    "<p>\n",
    "    Por último, solo se han visto funciones para trabajar con texto e imprimir, pero a continuación se deja otro ejemplo correspondiente a la sumatoria.\n",
    "</p>"
   ]
  },
  {
   "cell_type": "markdown",
   "id": "4fd3f254-363d-4e89-9096-83b67283206e",
   "metadata": {},
   "source": [
    "<h3>Sumatoria de $n$</h3>\n",
    "<p>\n",
    "    Corresponde a la suma de un número y todos sus antecesores hasta $1$. Esta es expresada con la siguiente formula:\n",
    "    $$\\sum_{i=1}^n i = 1+2+3+4+5+...+n-1+n$$\n",
    "    Esta se define con la siguiente función.\n",
    "</p>"
   ]
  },
  {
   "cell_type": "code",
   "execution_count": 28,
   "id": "6de0991c-d664-4919-9a22-40ac8363eec9",
   "metadata": {},
   "outputs": [
    {
     "name": "stdout",
     "output_type": "stream",
     "text": [
      "Los valores obtenido son:  1275 ,  5050  y  381501\n"
     ]
    }
   ],
   "source": [
    "def sumatoria(n):\n",
    "    i = 1\n",
    "    resultado = 0\n",
    "    while i <= n:\n",
    "        resultado = resultado + i\n",
    "        i = i + 1\n",
    "    return resultado\n",
    "\n",
    "suma1 = sumatoria(50)\n",
    "suma2 = sumatoria(100)\n",
    "suma3 = sumatoria(873)\n",
    "print(\"Los valores obtenido son: \", suma1, \", \", suma2, \" y \", suma3)"
   ]
  },
  {
   "cell_type": "markdown",
   "id": "ecc94d23-5575-4ba6-acf4-5ecca711c174",
   "metadata": {},
   "source": [
    "<h2>Ejercicios de práctica</h2>\n",
    "<ol>\n",
    "    <li>\n",
    "        Construir una función que permita identifica si un número es par o impar. Por ejemplo:\n",
    "<pre>\n",
    "<strong>Entrada:</strong>\n",
    "5\n",
    "<strong>Salida:</strong>\n",
    "Es impar\n",
    "<strong>Entrada:</strong>\n",
    "8\n",
    "<strong>Salida:</strong>\n",
    "Es par\n",
    "</pre>\n",
    "    </li>\n",
    "    <li>\n",
    "        Un estudiante desea conocer el promedio de sus notas. Sabe que esta se obtiene sumando todas las notas y diviendo esta suma por el número de calificaciones, pero a él le encataría poder construir un programa para compartirlo con sus amigos y estos también lo puedan utilizar para calcular las suyas. Para esto, el estudiante requiere de su ayuda y le pide:\n",
    "    <ol>\n",
    "        <li>\n",
    "            Construir una función que reciba como parámetro una lista con las notas y devuelva como resultado el promedio.\n",
    "            <pre>\n",
    "<strong>Entrada:</strong>\n",
    "[5.0, 6.5, 4.0, 4.5]\n",
    "<strong>Salida:</strong>\n",
    "El promedio de notas es 5.0\n",
    "            </pre>\n",
    "        </li>\n",
    "        <li>\n",
    "            Construir una función que permite al usuario ingresar las notas desde el teclado y calcule el promedio. Considerar para este caso invocar la función definida en el punto anterior para calcular el promedio.\n",
    "            <pre>\n",
    "<strong>Entrada:</strong>\n",
    "5.0\n",
    "6.5\n",
    "4.0\n",
    "4.5\n",
    "<strong>Salida:</strong>\n",
    "El promedio de notas es 5.0\n",
    "            </pre>\n",
    "        </li>\n",
    "    </ol>\n",
    "    </li>\n",
    "</ol>"
   ]
  }
 ],
 "metadata": {
  "kernelspec": {
   "display_name": "Python 3 (ipykernel)",
   "language": "python",
   "name": "python3"
  },
  "language_info": {
   "codemirror_mode": {
    "name": "ipython",
    "version": 3
   },
   "file_extension": ".py",
   "mimetype": "text/x-python",
   "name": "python",
   "nbconvert_exporter": "python",
   "pygments_lexer": "ipython3",
   "version": "3.9.12"
  }
 },
 "nbformat": 4,
 "nbformat_minor": 5
}
