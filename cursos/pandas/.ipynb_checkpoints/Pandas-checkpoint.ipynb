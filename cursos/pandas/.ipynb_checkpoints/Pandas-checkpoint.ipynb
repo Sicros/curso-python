{
 "cells": [
  {
   "cell_type": "markdown",
   "id": "8244ca66-45ee-437a-a077-9177d14673f9",
   "metadata": {},
   "source": [
    "<h1>Pandas Package</h1>\n",
    "<p>\n",
    "    Es imposible hablar Python y no escuchar también la palabra Pandas. Por lo general esta biblioteca es muy utilizada al momento de trabajar con Python, por lo fácil que resulta manipular datos con ella e incluso visualizarlos de manera mucho más comoda, ya sea por tablas o gráficos. Si bien, la cantidad de herramientas que ofrece son muchas, nos enfocaremos principalmente en los Dataframes, la lectura y escritura de archivos y los gráficos (que será revisado en otra sección).\n",
    "</p>"
   ]
  },
  {
   "cell_type": "markdown",
   "id": "d47c1a3c-f972-4d49-90b2-9305fed0d22c",
   "metadata": {},
   "source": [
    "<h2>Antes de comenzar</h2>"
   ]
  },
  {
   "cell_type": "markdown",
   "id": "ca9df07c-e692-40d1-8123-143cdc8a6c83",
   "metadata": {},
   "source": [
    "<h3>Instalar Pandas</h3>\n",
    "<p>\n",
    "    Antes de comenzar y trabajar con Pandas, lo primero y más importante es instalar Pandas. Para esto, lo único que se necesita es tener acceso a internet y ejecutar el siguiente comando en la terminal que ofrece tu sistema operativo:\n",
    "</p>\n",
    "<code>pip install --user --upgrade pandas</code>\n",
    "<br /><br />\n",
    "<p>\n",
    "    Esto se puede realizar desde cualquier equipo con Python instalado (Windows, Linux MacOS). Tomará un par de minutos y una vez haya finalizado.\n",
    "</p>"
   ]
  },
  {
   "cell_type": "markdown",
   "id": "e7552346-8615-4fa2-98f7-23451b34a715",
   "metadata": {},
   "source": [
    "<h3>Invocar Pandas</h3>\n",
    "<p>\n",
    "    Para comenzar a usar Pandas en el código, primer lo debemos llamar, para esto se puede utilizar el comando <code>import</code>, que permite importar una biblioteca, y <code>as</code> para asignar una etiqueta al paquete y sea mucho más simple trabajar con él. A continuación, se encuentra la línea de código para lograr esto (y que debemos ejecutar si queremos trabajar con ella).\n",
    "</p>"
   ]
  },
  {
   "cell_type": "code",
   "execution_count": 1,
   "id": "34cba192-4aed-4c8b-81a2-780df08bb909",
   "metadata": {},
   "outputs": [],
   "source": [
    "## Invocar biblioteca de Pandas (vital para poder continuar trabajando)\n",
    "import pandas as pd"
   ]
  },
  {
   "cell_type": "markdown",
   "id": "4319d216-4e05-4fc7-b57d-899b3af90522",
   "metadata": {},
   "source": [
    "<p>\n",
    "    Ya habiendo echo todo esto, podemos comenzar a trabajar.\n",
    "</p>\n",
    "\n",
    "<center><img src=\"https://media1.giphy.com/media/m9NW0LaKiJVch1L5Qp/giphy.gif?cid=ecf05e47mmxrjoq9yj15e4jpsnfmobi0bfh94w7hcutf37e0&rid=giphy.gif&ct=g\"></center>"
   ]
  },
  {
   "cell_type": "markdown",
   "id": "69b1f1a0-c166-48b7-b0c4-7c1167d21339",
   "metadata": {},
   "source": [
    "<h2>Pandas DataFrames</h2>\n",
    "<h3>Mi Primer DataFrame</h3>\n",
    "<p>\n",
    "    Un Dataframe se describe como datos tabulados de dos dimensiones, que se construye con columnas y filas. Existen muchos métodos para crear un DataFrame, puede ser leyendo un archivo, a partir de una variable en Python e incluso contruir una tabla vacía. A continuación, se enseñará como crear un DataFrame desde cero.\n",
    "</p>"
   ]
  },
  {
   "cell_type": "code",
   "execution_count": 11,
   "id": "cc6accba-65b6-4ced-900a-50b529454cc3",
   "metadata": {},
   "outputs": [
    {
     "data": {
      "text/html": [
       "<div>\n",
       "<style scoped>\n",
       "    .dataframe tbody tr th:only-of-type {\n",
       "        vertical-align: middle;\n",
       "    }\n",
       "\n",
       "    .dataframe tbody tr th {\n",
       "        vertical-align: top;\n",
       "    }\n",
       "\n",
       "    .dataframe thead th {\n",
       "        text-align: right;\n",
       "    }\n",
       "</style>\n",
       "<table border=\"1\" class=\"dataframe\">\n",
       "  <thead>\n",
       "    <tr style=\"text-align: right;\">\n",
       "      <th></th>\n",
       "    </tr>\n",
       "  </thead>\n",
       "  <tbody>\n",
       "  </tbody>\n",
       "</table>\n",
       "</div>"
      ],
      "text/plain": [
       "Empty DataFrame\n",
       "Columns: []\n",
       "Index: []"
      ]
     },
     "metadata": {},
     "output_type": "display_data"
    }
   ],
   "source": [
    "# Con este comando generamos un DataFrame completante vacío\n",
    "df = pd.DataFrame()\n",
    "# Se puede imprimir el DataFrame con \"print()\", pero se aprecia mucho mejor si se utiliza \"display()\"\n",
    "display(df)"
   ]
  },
  {
   "cell_type": "markdown",
   "id": "57491cb9-107c-43f9-af3a-3193c8a9a37c",
   "metadata": {},
   "source": [
    "<h3>Crear campos y filas</h3>\n",
    "<p>\n",
    "    A partir de este DataFrame vacío, nosotros podemos agregar nueva información, tanto nuevas columnas como nuevas filas. Supongamos que en esta tabla queremos almacenar los ramos de un estudiante y sus calificación. La forma en la que esto se logra es como se muestra a continuación:\n",
    "</p>"
   ]
  },
  {
   "cell_type": "code",
   "execution_count": 12,
   "id": "b45420b1-d68d-493d-9a42-ae57ac1d573c",
   "metadata": {},
   "outputs": [
    {
     "data": {
      "text/html": [
       "<div>\n",
       "<style scoped>\n",
       "    .dataframe tbody tr th:only-of-type {\n",
       "        vertical-align: middle;\n",
       "    }\n",
       "\n",
       "    .dataframe tbody tr th {\n",
       "        vertical-align: top;\n",
       "    }\n",
       "\n",
       "    .dataframe thead th {\n",
       "        text-align: right;\n",
       "    }\n",
       "</style>\n",
       "<table border=\"1\" class=\"dataframe\">\n",
       "  <thead>\n",
       "    <tr style=\"text-align: right;\">\n",
       "      <th></th>\n",
       "      <th>Asignatura</th>\n",
       "    </tr>\n",
       "  </thead>\n",
       "  <tbody>\n",
       "    <tr>\n",
       "      <th>0</th>\n",
       "      <td>Matemáticas</td>\n",
       "    </tr>\n",
       "    <tr>\n",
       "      <th>1</th>\n",
       "      <td>Lenguaje</td>\n",
       "    </tr>\n",
       "    <tr>\n",
       "      <th>2</th>\n",
       "      <td>Historia</td>\n",
       "    </tr>\n",
       "    <tr>\n",
       "      <th>3</th>\n",
       "      <td>Ciencias</td>\n",
       "    </tr>\n",
       "    <tr>\n",
       "      <th>4</th>\n",
       "      <td>Música</td>\n",
       "    </tr>\n",
       "    <tr>\n",
       "      <th>5</th>\n",
       "      <td>Artes</td>\n",
       "    </tr>\n",
       "  </tbody>\n",
       "</table>\n",
       "</div>"
      ],
      "text/plain": [
       "    Asignatura\n",
       "0  Matemáticas\n",
       "1     Lenguaje\n",
       "2     Historia\n",
       "3     Ciencias\n",
       "4       Música\n",
       "5        Artes"
      ]
     },
     "metadata": {},
     "output_type": "display_data"
    }
   ],
   "source": [
    "# \"df[]\" hace referencia a un campo de la tabla, en el que se pueden asignar valores. Si este no existe se crea.\n",
    "# La lista entregada son los valores que irán en cada fila. En este caso se crearán 6 filas, una con cada valor.\n",
    "df[\"Asignatura\"] = [\"Matemáticas\", \"Lenguaje\", \"Historia\", \"Ciencias\", \"Música\", \"Artes\"]\n",
    "display(df)"
   ]
  },
  {
   "cell_type": "code",
   "execution_count": 13,
   "id": "557a2dfc-730d-4d34-954c-a945986d0acd",
   "metadata": {},
   "outputs": [
    {
     "data": {
      "text/html": [
       "<div>\n",
       "<style scoped>\n",
       "    .dataframe tbody tr th:only-of-type {\n",
       "        vertical-align: middle;\n",
       "    }\n",
       "\n",
       "    .dataframe tbody tr th {\n",
       "        vertical-align: top;\n",
       "    }\n",
       "\n",
       "    .dataframe thead th {\n",
       "        text-align: right;\n",
       "    }\n",
       "</style>\n",
       "<table border=\"1\" class=\"dataframe\">\n",
       "  <thead>\n",
       "    <tr style=\"text-align: right;\">\n",
       "      <th></th>\n",
       "      <th>Asignatura</th>\n",
       "      <th>Nota promedio</th>\n",
       "    </tr>\n",
       "  </thead>\n",
       "  <tbody>\n",
       "    <tr>\n",
       "      <th>0</th>\n",
       "      <td>Matemáticas</td>\n",
       "      <td>6.3</td>\n",
       "    </tr>\n",
       "    <tr>\n",
       "      <th>1</th>\n",
       "      <td>Lenguaje</td>\n",
       "      <td>3.1</td>\n",
       "    </tr>\n",
       "    <tr>\n",
       "      <th>2</th>\n",
       "      <td>Historia</td>\n",
       "      <td>3.8</td>\n",
       "    </tr>\n",
       "    <tr>\n",
       "      <th>3</th>\n",
       "      <td>Ciencias</td>\n",
       "      <td>7.0</td>\n",
       "    </tr>\n",
       "    <tr>\n",
       "      <th>4</th>\n",
       "      <td>Música</td>\n",
       "      <td>6.8</td>\n",
       "    </tr>\n",
       "    <tr>\n",
       "      <th>5</th>\n",
       "      <td>Artes</td>\n",
       "      <td>2.7</td>\n",
       "    </tr>\n",
       "  </tbody>\n",
       "</table>\n",
       "</div>"
      ],
      "text/plain": [
       "    Asignatura  Nota promedio\n",
       "0  Matemáticas            6.3\n",
       "1     Lenguaje            3.1\n",
       "2     Historia            3.8\n",
       "3     Ciencias            7.0\n",
       "4       Música            6.8\n",
       "5        Artes            2.7"
      ]
     },
     "metadata": {},
     "output_type": "display_data"
    }
   ],
   "source": [
    "# Adicionalmente se crea otro campo y se entregan 6 valores igualmente.\n",
    "df[\"Nota promedio\"] = [6.3, 3.1, 3.8, 7.0, 6.8, 2.7]\n",
    "display(df)"
   ]
  },
  {
   "cell_type": "markdown",
   "id": "c0d31aa9-5ff8-4039-8374-71f1eff5ad53",
   "metadata": {},
   "source": [
    "<p>\n",
    "    Podemos notar como la tabla va cambiando a medida que se entregan nuevos campos. Cada columna nueva se adjunta a la derecha y cada nueva fila abajo de la tabla.\n",
    "</p>"
   ]
  },
  {
   "cell_type": "markdown",
   "id": "40f30253-adb9-4b0b-9393-6fd868379ba0",
   "metadata": {},
   "source": [
    "<h3>Asignar a una porción del DataFrame</h3>\n",
    "<p>\n",
    "    Ahora, supongamos que deseamos agregar el porcentaje de asistencia del estudiante a cada una de las asignaturas, pero solo conocemos los primeros 5. Intentemos asignar estos 5 valores a un nuevo campo.\n",
    "</p>"
   ]
  },
  {
   "cell_type": "code",
   "execution_count": 14,
   "id": "481e46d5-4299-430b-bfbe-934ab60ea2f1",
   "metadata": {
    "scrolled": true,
    "tags": []
   },
   "outputs": [
    {
     "ename": "ValueError",
     "evalue": "Length of values (5) does not match length of index (6)",
     "output_type": "error",
     "traceback": [
      "\u001b[1;31m---------------------------------------------------------------------------\u001b[0m",
      "\u001b[1;31mValueError\u001b[0m                                Traceback (most recent call last)",
      "Input \u001b[1;32mIn [14]\u001b[0m, in \u001b[0;36m<cell line: 2>\u001b[1;34m()\u001b[0m\n\u001b[0;32m      1\u001b[0m \u001b[38;5;66;03m# Asignación de 5 valores a la tabla que ya modificacmos anteriormente.\u001b[39;00m\n\u001b[1;32m----> 2\u001b[0m df[\u001b[38;5;124m\"\u001b[39m\u001b[38;5;124mAsistencia\u001b[39m\u001b[38;5;124m\"\u001b[39m] \u001b[38;5;241m=\u001b[39m [\u001b[38;5;241m0.98\u001b[39m, \u001b[38;5;241m0.91\u001b[39m, \u001b[38;5;241m0.73\u001b[39m, \u001b[38;5;241m0.85\u001b[39m, \u001b[38;5;241m0.66\u001b[39m]\n",
      "File \u001b[1;32m~\\anaconda3\\lib\\site-packages\\pandas\\core\\frame.py:3978\u001b[0m, in \u001b[0;36mDataFrame.__setitem__\u001b[1;34m(self, key, value)\u001b[0m\n\u001b[0;32m   3975\u001b[0m     \u001b[38;5;28mself\u001b[39m\u001b[38;5;241m.\u001b[39m_setitem_array([key], value)\n\u001b[0;32m   3976\u001b[0m \u001b[38;5;28;01melse\u001b[39;00m:\n\u001b[0;32m   3977\u001b[0m     \u001b[38;5;66;03m# set column\u001b[39;00m\n\u001b[1;32m-> 3978\u001b[0m     \u001b[38;5;28;43mself\u001b[39;49m\u001b[38;5;241;43m.\u001b[39;49m\u001b[43m_set_item\u001b[49m\u001b[43m(\u001b[49m\u001b[43mkey\u001b[49m\u001b[43m,\u001b[49m\u001b[43m \u001b[49m\u001b[43mvalue\u001b[49m\u001b[43m)\u001b[49m\n",
      "File \u001b[1;32m~\\anaconda3\\lib\\site-packages\\pandas\\core\\frame.py:4172\u001b[0m, in \u001b[0;36mDataFrame._set_item\u001b[1;34m(self, key, value)\u001b[0m\n\u001b[0;32m   4162\u001b[0m \u001b[38;5;28;01mdef\u001b[39;00m \u001b[38;5;21m_set_item\u001b[39m(\u001b[38;5;28mself\u001b[39m, key, value) \u001b[38;5;241m-\u001b[39m\u001b[38;5;241m>\u001b[39m \u001b[38;5;28;01mNone\u001b[39;00m:\n\u001b[0;32m   4163\u001b[0m     \u001b[38;5;124;03m\"\"\"\u001b[39;00m\n\u001b[0;32m   4164\u001b[0m \u001b[38;5;124;03m    Add series to DataFrame in specified column.\u001b[39;00m\n\u001b[0;32m   4165\u001b[0m \n\u001b[1;32m   (...)\u001b[0m\n\u001b[0;32m   4170\u001b[0m \u001b[38;5;124;03m    ensure homogeneity.\u001b[39;00m\n\u001b[0;32m   4171\u001b[0m \u001b[38;5;124;03m    \"\"\"\u001b[39;00m\n\u001b[1;32m-> 4172\u001b[0m     value \u001b[38;5;241m=\u001b[39m \u001b[38;5;28;43mself\u001b[39;49m\u001b[38;5;241;43m.\u001b[39;49m\u001b[43m_sanitize_column\u001b[49m\u001b[43m(\u001b[49m\u001b[43mvalue\u001b[49m\u001b[43m)\u001b[49m\n\u001b[0;32m   4174\u001b[0m     \u001b[38;5;28;01mif\u001b[39;00m (\n\u001b[0;32m   4175\u001b[0m         key \u001b[38;5;129;01min\u001b[39;00m \u001b[38;5;28mself\u001b[39m\u001b[38;5;241m.\u001b[39mcolumns\n\u001b[0;32m   4176\u001b[0m         \u001b[38;5;129;01mand\u001b[39;00m value\u001b[38;5;241m.\u001b[39mndim \u001b[38;5;241m==\u001b[39m \u001b[38;5;241m1\u001b[39m\n\u001b[0;32m   4177\u001b[0m         \u001b[38;5;129;01mand\u001b[39;00m \u001b[38;5;129;01mnot\u001b[39;00m is_extension_array_dtype(value)\n\u001b[0;32m   4178\u001b[0m     ):\n\u001b[0;32m   4179\u001b[0m         \u001b[38;5;66;03m# broadcast across multiple columns if necessary\u001b[39;00m\n\u001b[0;32m   4180\u001b[0m         \u001b[38;5;28;01mif\u001b[39;00m \u001b[38;5;129;01mnot\u001b[39;00m \u001b[38;5;28mself\u001b[39m\u001b[38;5;241m.\u001b[39mcolumns\u001b[38;5;241m.\u001b[39mis_unique \u001b[38;5;129;01mor\u001b[39;00m \u001b[38;5;28misinstance\u001b[39m(\u001b[38;5;28mself\u001b[39m\u001b[38;5;241m.\u001b[39mcolumns, MultiIndex):\n",
      "File \u001b[1;32m~\\anaconda3\\lib\\site-packages\\pandas\\core\\frame.py:4912\u001b[0m, in \u001b[0;36mDataFrame._sanitize_column\u001b[1;34m(self, value)\u001b[0m\n\u001b[0;32m   4909\u001b[0m     \u001b[38;5;28;01mreturn\u001b[39;00m _reindex_for_setitem(Series(value), \u001b[38;5;28mself\u001b[39m\u001b[38;5;241m.\u001b[39mindex)\n\u001b[0;32m   4911\u001b[0m \u001b[38;5;28;01mif\u001b[39;00m is_list_like(value):\n\u001b[1;32m-> 4912\u001b[0m     \u001b[43mcom\u001b[49m\u001b[38;5;241;43m.\u001b[39;49m\u001b[43mrequire_length_match\u001b[49m\u001b[43m(\u001b[49m\u001b[43mvalue\u001b[49m\u001b[43m,\u001b[49m\u001b[43m \u001b[49m\u001b[38;5;28;43mself\u001b[39;49m\u001b[38;5;241;43m.\u001b[39;49m\u001b[43mindex\u001b[49m\u001b[43m)\u001b[49m\n\u001b[0;32m   4913\u001b[0m \u001b[38;5;28;01mreturn\u001b[39;00m sanitize_array(value, \u001b[38;5;28mself\u001b[39m\u001b[38;5;241m.\u001b[39mindex, copy\u001b[38;5;241m=\u001b[39m\u001b[38;5;28;01mTrue\u001b[39;00m, allow_2d\u001b[38;5;241m=\u001b[39m\u001b[38;5;28;01mTrue\u001b[39;00m)\n",
      "File \u001b[1;32m~\\anaconda3\\lib\\site-packages\\pandas\\core\\common.py:561\u001b[0m, in \u001b[0;36mrequire_length_match\u001b[1;34m(data, index)\u001b[0m\n\u001b[0;32m    557\u001b[0m \u001b[38;5;124;03m\"\"\"\u001b[39;00m\n\u001b[0;32m    558\u001b[0m \u001b[38;5;124;03mCheck the length of data matches the length of the index.\u001b[39;00m\n\u001b[0;32m    559\u001b[0m \u001b[38;5;124;03m\"\"\"\u001b[39;00m\n\u001b[0;32m    560\u001b[0m \u001b[38;5;28;01mif\u001b[39;00m \u001b[38;5;28mlen\u001b[39m(data) \u001b[38;5;241m!=\u001b[39m \u001b[38;5;28mlen\u001b[39m(index):\n\u001b[1;32m--> 561\u001b[0m     \u001b[38;5;28;01mraise\u001b[39;00m \u001b[38;5;167;01mValueError\u001b[39;00m(\n\u001b[0;32m    562\u001b[0m         \u001b[38;5;124m\"\u001b[39m\u001b[38;5;124mLength of values \u001b[39m\u001b[38;5;124m\"\u001b[39m\n\u001b[0;32m    563\u001b[0m         \u001b[38;5;124mf\u001b[39m\u001b[38;5;124m\"\u001b[39m\u001b[38;5;124m(\u001b[39m\u001b[38;5;132;01m{\u001b[39;00m\u001b[38;5;28mlen\u001b[39m(data)\u001b[38;5;132;01m}\u001b[39;00m\u001b[38;5;124m) \u001b[39m\u001b[38;5;124m\"\u001b[39m\n\u001b[0;32m    564\u001b[0m         \u001b[38;5;124m\"\u001b[39m\u001b[38;5;124mdoes not match length of index \u001b[39m\u001b[38;5;124m\"\u001b[39m\n\u001b[0;32m    565\u001b[0m         \u001b[38;5;124mf\u001b[39m\u001b[38;5;124m\"\u001b[39m\u001b[38;5;124m(\u001b[39m\u001b[38;5;132;01m{\u001b[39;00m\u001b[38;5;28mlen\u001b[39m(index)\u001b[38;5;132;01m}\u001b[39;00m\u001b[38;5;124m)\u001b[39m\u001b[38;5;124m\"\u001b[39m\n\u001b[0;32m    566\u001b[0m     )\n",
      "\u001b[1;31mValueError\u001b[0m: Length of values (5) does not match length of index (6)"
     ]
    }
   ],
   "source": [
    "# Asignación de 5 valores a la tabla que ya modificacmos anteriormente.\n",
    "df[\"Asistencia\"] = [0.98, 0.91, 0.73, 0.85, 0.66]"
   ]
  },
  {
   "cell_type": "markdown",
   "id": "4f63e168-4cb2-4358-a1a1-05c4230ab762",
   "metadata": {},
   "source": [
    "<p>\n",
    "    Tal como se observa, el DataFrame requiere que se entregue una lista que contenga la misma cantidad de elementos que el número de filas que este posee. En el ejemplo anterior, si quisieramos agregar solo estos 5 valores, deberiamos ejecutar el siguiente comando.\n",
    "</p>"
   ]
  },
  {
   "cell_type": "code",
   "execution_count": 17,
   "id": "f702adf2-a709-486c-b702-905c8152a99d",
   "metadata": {},
   "outputs": [
    {
     "data": {
      "text/html": [
       "<div>\n",
       "<style scoped>\n",
       "    .dataframe tbody tr th:only-of-type {\n",
       "        vertical-align: middle;\n",
       "    }\n",
       "\n",
       "    .dataframe tbody tr th {\n",
       "        vertical-align: top;\n",
       "    }\n",
       "\n",
       "    .dataframe thead th {\n",
       "        text-align: right;\n",
       "    }\n",
       "</style>\n",
       "<table border=\"1\" class=\"dataframe\">\n",
       "  <thead>\n",
       "    <tr style=\"text-align: right;\">\n",
       "      <th></th>\n",
       "      <th>Asignatura</th>\n",
       "      <th>Nota promedio</th>\n",
       "      <th>Asistencia</th>\n",
       "    </tr>\n",
       "  </thead>\n",
       "  <tbody>\n",
       "    <tr>\n",
       "      <th>0</th>\n",
       "      <td>Matemáticas</td>\n",
       "      <td>6.3</td>\n",
       "      <td>0.98</td>\n",
       "    </tr>\n",
       "    <tr>\n",
       "      <th>1</th>\n",
       "      <td>Lenguaje</td>\n",
       "      <td>3.1</td>\n",
       "      <td>0.91</td>\n",
       "    </tr>\n",
       "    <tr>\n",
       "      <th>2</th>\n",
       "      <td>Historia</td>\n",
       "      <td>3.8</td>\n",
       "      <td>0.73</td>\n",
       "    </tr>\n",
       "    <tr>\n",
       "      <th>3</th>\n",
       "      <td>Ciencias</td>\n",
       "      <td>7.0</td>\n",
       "      <td>0.85</td>\n",
       "    </tr>\n",
       "    <tr>\n",
       "      <th>4</th>\n",
       "      <td>Música</td>\n",
       "      <td>6.8</td>\n",
       "      <td>0.66</td>\n",
       "    </tr>\n",
       "    <tr>\n",
       "      <th>5</th>\n",
       "      <td>Artes</td>\n",
       "      <td>2.7</td>\n",
       "      <td>NaN</td>\n",
       "    </tr>\n",
       "  </tbody>\n",
       "</table>\n",
       "</div>"
      ],
      "text/plain": [
       "    Asignatura  Nota promedio  Asistencia\n",
       "0  Matemáticas            6.3        0.98\n",
       "1     Lenguaje            3.1        0.91\n",
       "2     Historia            3.8        0.73\n",
       "3     Ciencias            7.0        0.85\n",
       "4       Música            6.8        0.66\n",
       "5        Artes            2.7         NaN"
      ]
     },
     "metadata": {},
     "output_type": "display_data"
    }
   ],
   "source": [
    "# Asignación de 5 valores a la tabla que ya modificacmos anteriormente, esta vez agregando el último como un valor nulo.\n",
    "df[\"Asistencia\"] = [0.98, 0.91, 0.73, 0.85, 0.66, None]\n",
    "display(df)"
   ]
  },
  {
   "cell_type": "markdown",
   "id": "6916a63f-32e0-4ebf-b9d4-3f35c5ffb9e2",
   "metadata": {},
   "source": [
    "<p>\n",
    "    De esta forma asignamos los valores que se requerían en cada una de sus respectivas filas.\n",
    "</p>\n",
    "<h3>Filtrar DataFrame</h3>\n",
    "<p>\n",
    "    Ahora necesitamos conocer las asignaturas en las que el estudiante obtuvo un promedio superior o igual a 4.0. Para esto, conocemos el filtro que debemos aplicar. Si queremos filtrar nuestro DataFrame para extraer esta información, debemos ejecutar la siguiente línea:\n",
    "</p>"
   ]
  },
  {
   "cell_type": "code",
   "execution_count": 18,
   "id": "764bd2f5-e2fd-4cc6-a73f-f2c009c47bdc",
   "metadata": {},
   "outputs": [
    {
     "data": {
      "text/plain": [
       "0     True\n",
       "1    False\n",
       "2    False\n",
       "3     True\n",
       "4     True\n",
       "5    False\n",
       "Name: Nota promedio, dtype: bool"
      ]
     },
     "metadata": {},
     "output_type": "display_data"
    }
   ],
   "source": [
    "# Primero asignaremos la condición en una variable para entender como funciona\n",
    "condicion = df[\"Nota promedio\"] >= 4\n",
    "display(condicion)"
   ]
  },
  {
   "cell_type": "code",
   "execution_count": 19,
   "id": "c15b1005-52ed-4e1a-9902-389365a9f058",
   "metadata": {},
   "outputs": [
    {
     "data": {
      "text/html": [
       "<div>\n",
       "<style scoped>\n",
       "    .dataframe tbody tr th:only-of-type {\n",
       "        vertical-align: middle;\n",
       "    }\n",
       "\n",
       "    .dataframe tbody tr th {\n",
       "        vertical-align: top;\n",
       "    }\n",
       "\n",
       "    .dataframe thead th {\n",
       "        text-align: right;\n",
       "    }\n",
       "</style>\n",
       "<table border=\"1\" class=\"dataframe\">\n",
       "  <thead>\n",
       "    <tr style=\"text-align: right;\">\n",
       "      <th></th>\n",
       "      <th>Asignatura</th>\n",
       "      <th>Nota promedio</th>\n",
       "      <th>Asistencia</th>\n",
       "    </tr>\n",
       "  </thead>\n",
       "  <tbody>\n",
       "    <tr>\n",
       "      <th>0</th>\n",
       "      <td>Matemáticas</td>\n",
       "      <td>6.3</td>\n",
       "      <td>0.98</td>\n",
       "    </tr>\n",
       "    <tr>\n",
       "      <th>3</th>\n",
       "      <td>Ciencias</td>\n",
       "      <td>7.0</td>\n",
       "      <td>0.85</td>\n",
       "    </tr>\n",
       "    <tr>\n",
       "      <th>4</th>\n",
       "      <td>Música</td>\n",
       "      <td>6.8</td>\n",
       "      <td>0.66</td>\n",
       "    </tr>\n",
       "  </tbody>\n",
       "</table>\n",
       "</div>"
      ],
      "text/plain": [
       "    Asignatura  Nota promedio  Asistencia\n",
       "0  Matemáticas            6.3        0.98\n",
       "3     Ciencias            7.0        0.85\n",
       "4       Música            6.8        0.66"
      ]
     },
     "metadata": {},
     "output_type": "display_data"
    }
   ],
   "source": [
    "# Luego se entrega esta condición como parámetro al DataFrame quien devuelve las filas que cumplan con el criterio.\n",
    "df_nota4 = df[condicion]\n",
    "display(df_nota4)"
   ]
  },
  {
   "cell_type": "code",
   "execution_count": 20,
   "id": "6f483fd4-5aea-4504-b16f-02c9452e75d1",
   "metadata": {},
   "outputs": [
    {
     "data": {
      "text/html": [
       "<div>\n",
       "<style scoped>\n",
       "    .dataframe tbody tr th:only-of-type {\n",
       "        vertical-align: middle;\n",
       "    }\n",
       "\n",
       "    .dataframe tbody tr th {\n",
       "        vertical-align: top;\n",
       "    }\n",
       "\n",
       "    .dataframe thead th {\n",
       "        text-align: right;\n",
       "    }\n",
       "</style>\n",
       "<table border=\"1\" class=\"dataframe\">\n",
       "  <thead>\n",
       "    <tr style=\"text-align: right;\">\n",
       "      <th></th>\n",
       "      <th>Asignatura</th>\n",
       "      <th>Nota promedio</th>\n",
       "      <th>Asistencia</th>\n",
       "    </tr>\n",
       "  </thead>\n",
       "  <tbody>\n",
       "    <tr>\n",
       "      <th>0</th>\n",
       "      <td>Matemáticas</td>\n",
       "      <td>6.3</td>\n",
       "      <td>0.98</td>\n",
       "    </tr>\n",
       "    <tr>\n",
       "      <th>3</th>\n",
       "      <td>Ciencias</td>\n",
       "      <td>7.0</td>\n",
       "      <td>0.85</td>\n",
       "    </tr>\n",
       "    <tr>\n",
       "      <th>4</th>\n",
       "      <td>Música</td>\n",
       "      <td>6.8</td>\n",
       "      <td>0.66</td>\n",
       "    </tr>\n",
       "  </tbody>\n",
       "</table>\n",
       "</div>"
      ],
      "text/plain": [
       "    Asignatura  Nota promedio  Asistencia\n",
       "0  Matemáticas            6.3        0.98\n",
       "3     Ciencias            7.0        0.85\n",
       "4       Música            6.8        0.66"
      ]
     },
     "metadata": {},
     "output_type": "display_data"
    }
   ],
   "source": [
    "# Se define la condición a parte para entender la idea, pero por lo general se escribe todo junto en una sola línea.\n",
    "df_nota4 = df[df[\"Nota promedio\"] >= 4]\n",
    "display(df_nota4)"
   ]
  },
  {
   "cell_type": "markdown",
   "id": "57a8a354-2a4f-4ab1-8f44-b9796b629b1e",
   "metadata": {},
   "source": [
    "<p>\n",
    "    Para filtrar, el campo al que se desee aplicar la condición se debe invocar de la misma forma como asignamos valores anteriormente, es decir, <code>df[\"CAMPO\"] {condicion} [VALOR]</code>. Esto devuelve una lista de verdadedores y falsos, de acuerdo a cada fila que cumpla o no con el criterio definido. Esta lista es entragada al mismo DataFrame quien devuelve cada fila en que el valor es <code>True</code>.\n",
    "</p>\n",
    "<h3>Asignar valor a una fila en específico</h3>\n",
    "<p>\n",
    "    Supongamos que ya conocemos cual es el porcentaje de asistencia del estudiante para la asignatura de \"Artes\". Podemos apoyarnos en los mismos filtros, para traer solo el registro relacionado a \"Artes\" y asignar el valor que corresponda en el campo de \"Asistencia\".\n",
    "</p>"
   ]
  },
  {
   "cell_type": "code",
   "execution_count": 26,
   "id": "9145c1fb-9c6d-4d93-a29a-8c312e7abd60",
   "metadata": {},
   "outputs": [
    {
     "data": {
      "text/html": [
       "<div>\n",
       "<style scoped>\n",
       "    .dataframe tbody tr th:only-of-type {\n",
       "        vertical-align: middle;\n",
       "    }\n",
       "\n",
       "    .dataframe tbody tr th {\n",
       "        vertical-align: top;\n",
       "    }\n",
       "\n",
       "    .dataframe thead th {\n",
       "        text-align: right;\n",
       "    }\n",
       "</style>\n",
       "<table border=\"1\" class=\"dataframe\">\n",
       "  <thead>\n",
       "    <tr style=\"text-align: right;\">\n",
       "      <th></th>\n",
       "      <th>Nota promedio</th>\n",
       "      <th>Asistencia</th>\n",
       "    </tr>\n",
       "  </thead>\n",
       "  <tbody>\n",
       "    <tr>\n",
       "      <th>5</th>\n",
       "      <td>2.7</td>\n",
       "      <td>NaN</td>\n",
       "    </tr>\n",
       "  </tbody>\n",
       "</table>\n",
       "</div>"
      ],
      "text/plain": [
       "   Nota promedio  Asistencia\n",
       "5            2.7         NaN"
      ]
     },
     "execution_count": 26,
     "metadata": {},
     "output_type": "execute_result"
    }
   ],
   "source": [
    "df[df[\"Asignatura\"] == \"Artes\"][[\"Nota promedio\", \"Asistencia\"]]"
   ]
  },
  {
   "cell_type": "code",
   "execution_count": 28,
   "id": "473644c2-56c1-4765-9dae-3c2ea07e16f3",
   "metadata": {},
   "outputs": [
    {
     "data": {
      "text/html": [
       "<div>\n",
       "<style scoped>\n",
       "    .dataframe tbody tr th:only-of-type {\n",
       "        vertical-align: middle;\n",
       "    }\n",
       "\n",
       "    .dataframe tbody tr th {\n",
       "        vertical-align: top;\n",
       "    }\n",
       "\n",
       "    .dataframe thead th {\n",
       "        text-align: right;\n",
       "    }\n",
       "</style>\n",
       "<table border=\"1\" class=\"dataframe\">\n",
       "  <thead>\n",
       "    <tr style=\"text-align: right;\">\n",
       "      <th></th>\n",
       "      <th>Asignatura</th>\n",
       "      <th>Nota promedio</th>\n",
       "      <th>Asistencia</th>\n",
       "    </tr>\n",
       "  </thead>\n",
       "  <tbody>\n",
       "    <tr>\n",
       "      <th>0</th>\n",
       "      <td>Matemáticas</td>\n",
       "      <td>6.3</td>\n",
       "      <td>0.98</td>\n",
       "    </tr>\n",
       "    <tr>\n",
       "      <th>1</th>\n",
       "      <td>Lenguaje</td>\n",
       "      <td>3.1</td>\n",
       "      <td>0.91</td>\n",
       "    </tr>\n",
       "    <tr>\n",
       "      <th>2</th>\n",
       "      <td>Historia</td>\n",
       "      <td>3.8</td>\n",
       "      <td>0.73</td>\n",
       "    </tr>\n",
       "    <tr>\n",
       "      <th>3</th>\n",
       "      <td>Ciencias</td>\n",
       "      <td>7.0</td>\n",
       "      <td>0.85</td>\n",
       "    </tr>\n",
       "    <tr>\n",
       "      <th>4</th>\n",
       "      <td>Música</td>\n",
       "      <td>6.8</td>\n",
       "      <td>0.66</td>\n",
       "    </tr>\n",
       "    <tr>\n",
       "      <th>5</th>\n",
       "      <td>Artes</td>\n",
       "      <td>2.7</td>\n",
       "      <td>0.82</td>\n",
       "    </tr>\n",
       "  </tbody>\n",
       "</table>\n",
       "</div>"
      ],
      "text/plain": [
       "    Asignatura  Nota promedio  Asistencia\n",
       "0  Matemáticas            6.3        0.98\n",
       "1     Lenguaje            3.1        0.91\n",
       "2     Historia            3.8        0.73\n",
       "3     Ciencias            7.0        0.85\n",
       "4       Música            6.8        0.66\n",
       "5        Artes            2.7        0.82"
      ]
     },
     "metadata": {},
     "output_type": "display_data"
    }
   ],
   "source": [
    "# Con df.loc[] podemos ubicarnos en una porción del DataFrame y trabajar sobre él, como asignar nuevos valores.\n",
    "# Después de la coma se agrega el campo en el que se desee hacer los cambios.\n",
    "df.loc[df[\"Asignatura\"] == \"Artes\", \"Asistencia\"] = 0.82\n",
    "display(df)"
   ]
  },
  {
   "cell_type": "markdown",
   "id": "d01b563b-5e7e-4d5a-8a2a-f3c04025768b",
   "metadata": {},
   "source": [
    "<p>\n",
    "    En este caso, se debe utilizar la función <code>loc()</code> para realizar trabajos sobre una porción de nuestro DataFrame, se aplica el filtro tal como vimos anterior y, separado por una <code>,</code>, se ubica el campo en el que se desea asignar el valor.\n",
    "</p>\n",
    "<h3>Multiples filtros</h3>\n",
    "<p>\n",
    "    Podemos filtrar por más de una condición usando distintos conectores lógicos, de la misma forma que se usa el <code>IF-ELSE</code>. Para entenderlo bien, utilizaremos los siguientes ejemplos.\n",
    "</p>\n",
    "<p>\n",
    "    Se considera que un alumno ha reprobado el ramo cuando ha obtenido una calificación menor a 4.0 o ha tenido una asistencia menor al 75%. Para esto crearemos un nuevo campo donde asignaremos la etiqueta de \"Reprobado\" si cumple con esta condición.\n",
    "</p>"
   ]
  },
  {
   "cell_type": "code",
   "execution_count": 29,
   "id": "6041fda0-8268-4810-9e93-c2252e311fd8",
   "metadata": {},
   "outputs": [
    {
     "data": {
      "text/html": [
       "<div>\n",
       "<style scoped>\n",
       "    .dataframe tbody tr th:only-of-type {\n",
       "        vertical-align: middle;\n",
       "    }\n",
       "\n",
       "    .dataframe tbody tr th {\n",
       "        vertical-align: top;\n",
       "    }\n",
       "\n",
       "    .dataframe thead th {\n",
       "        text-align: right;\n",
       "    }\n",
       "</style>\n",
       "<table border=\"1\" class=\"dataframe\">\n",
       "  <thead>\n",
       "    <tr style=\"text-align: right;\">\n",
       "      <th></th>\n",
       "      <th>Asignatura</th>\n",
       "      <th>Nota promedio</th>\n",
       "      <th>Asistencia</th>\n",
       "    </tr>\n",
       "  </thead>\n",
       "  <tbody>\n",
       "    <tr>\n",
       "      <th>1</th>\n",
       "      <td>Lenguaje</td>\n",
       "      <td>3.1</td>\n",
       "      <td>0.91</td>\n",
       "    </tr>\n",
       "    <tr>\n",
       "      <th>2</th>\n",
       "      <td>Historia</td>\n",
       "      <td>3.8</td>\n",
       "      <td>0.73</td>\n",
       "    </tr>\n",
       "    <tr>\n",
       "      <th>4</th>\n",
       "      <td>Música</td>\n",
       "      <td>6.8</td>\n",
       "      <td>0.66</td>\n",
       "    </tr>\n",
       "    <tr>\n",
       "      <th>5</th>\n",
       "      <td>Artes</td>\n",
       "      <td>2.7</td>\n",
       "      <td>0.82</td>\n",
       "    </tr>\n",
       "  </tbody>\n",
       "</table>\n",
       "</div>"
      ],
      "text/plain": [
       "  Asignatura  Nota promedio  Asistencia\n",
       "1   Lenguaje            3.1        0.91\n",
       "2   Historia            3.8        0.73\n",
       "4     Música            6.8        0.66\n",
       "5      Artes            2.7        0.82"
      ]
     },
     "execution_count": 29,
     "metadata": {},
     "output_type": "execute_result"
    }
   ],
   "source": [
    "df[(df[\"Nota promedio\"] < 4) | (df[\"Asistencia\"] < 0.75)]"
   ]
  },
  {
   "cell_type": "code",
   "execution_count": 30,
   "id": "937dbc80-5b3b-43ca-bea6-68d844afef75",
   "metadata": {},
   "outputs": [
    {
     "data": {
      "text/html": [
       "<div>\n",
       "<style scoped>\n",
       "    .dataframe tbody tr th:only-of-type {\n",
       "        vertical-align: middle;\n",
       "    }\n",
       "\n",
       "    .dataframe tbody tr th {\n",
       "        vertical-align: top;\n",
       "    }\n",
       "\n",
       "    .dataframe thead th {\n",
       "        text-align: right;\n",
       "    }\n",
       "</style>\n",
       "<table border=\"1\" class=\"dataframe\">\n",
       "  <thead>\n",
       "    <tr style=\"text-align: right;\">\n",
       "      <th></th>\n",
       "      <th>Asignatura</th>\n",
       "      <th>Nota promedio</th>\n",
       "      <th>Asistencia</th>\n",
       "      <th>Estado</th>\n",
       "    </tr>\n",
       "  </thead>\n",
       "  <tbody>\n",
       "    <tr>\n",
       "      <th>0</th>\n",
       "      <td>Matemáticas</td>\n",
       "      <td>6.3</td>\n",
       "      <td>0.98</td>\n",
       "      <td>NaN</td>\n",
       "    </tr>\n",
       "    <tr>\n",
       "      <th>1</th>\n",
       "      <td>Lenguaje</td>\n",
       "      <td>3.1</td>\n",
       "      <td>0.91</td>\n",
       "      <td>Reprobado</td>\n",
       "    </tr>\n",
       "    <tr>\n",
       "      <th>2</th>\n",
       "      <td>Historia</td>\n",
       "      <td>3.8</td>\n",
       "      <td>0.73</td>\n",
       "      <td>Reprobado</td>\n",
       "    </tr>\n",
       "    <tr>\n",
       "      <th>3</th>\n",
       "      <td>Ciencias</td>\n",
       "      <td>7.0</td>\n",
       "      <td>0.85</td>\n",
       "      <td>NaN</td>\n",
       "    </tr>\n",
       "    <tr>\n",
       "      <th>4</th>\n",
       "      <td>Música</td>\n",
       "      <td>6.8</td>\n",
       "      <td>0.66</td>\n",
       "      <td>Reprobado</td>\n",
       "    </tr>\n",
       "    <tr>\n",
       "      <th>5</th>\n",
       "      <td>Artes</td>\n",
       "      <td>2.7</td>\n",
       "      <td>0.82</td>\n",
       "      <td>Reprobado</td>\n",
       "    </tr>\n",
       "  </tbody>\n",
       "</table>\n",
       "</div>"
      ],
      "text/plain": [
       "    Asignatura  Nota promedio  Asistencia     Estado\n",
       "0  Matemáticas            6.3        0.98        NaN\n",
       "1     Lenguaje            3.1        0.91  Reprobado\n",
       "2     Historia            3.8        0.73  Reprobado\n",
       "3     Ciencias            7.0        0.85        NaN\n",
       "4       Música            6.8        0.66  Reprobado\n",
       "5        Artes            2.7        0.82  Reprobado"
      ]
     },
     "metadata": {},
     "output_type": "display_data"
    }
   ],
   "source": [
    "# Las condiciones se escriben en parentesis y, dado que en este caso la condición es\n",
    "# que tenga nota menor a 4 Ó asistencia menor al 75% se utiliza \"|\"\n",
    "df.loc[(df[\"Nota promedio\"] < 4) | (df[\"Asistencia\"] < 0.75), \"Estado\"] = \"Reprobado\"\n",
    "display(df)"
   ]
  },
  {
   "cell_type": "markdown",
   "id": "0b832e30-eb02-444d-b7c4-9501f99da380",
   "metadata": {},
   "source": [
    "<p>\n",
    "    De esta forma, utilizamos las dos condiciones, con el conector lógico que corresponda para asignar el valor.\n",
    "</p>\n",
    "<p>\n",
    "    Ahora intentaremos identificar a los alumnos que se destacaron por su nota (mayor o igual a 6) y que hayan tenido una alta asistencia (mayor o igual a 90%). Para esto repetiremos lo que se hizo en el caso anterior y asignaremos la etiqueta de \"Destacado\" al campo recién creado.\n",
    "</p>"
   ]
  },
  {
   "cell_type": "code",
   "execution_count": 36,
   "id": "ce147cce-c04c-42eb-8f40-95f348d0c277",
   "metadata": {},
   "outputs": [
    {
     "data": {
      "text/html": [
       "<div>\n",
       "<style scoped>\n",
       "    .dataframe tbody tr th:only-of-type {\n",
       "        vertical-align: middle;\n",
       "    }\n",
       "\n",
       "    .dataframe tbody tr th {\n",
       "        vertical-align: top;\n",
       "    }\n",
       "\n",
       "    .dataframe thead th {\n",
       "        text-align: right;\n",
       "    }\n",
       "</style>\n",
       "<table border=\"1\" class=\"dataframe\">\n",
       "  <thead>\n",
       "    <tr style=\"text-align: right;\">\n",
       "      <th></th>\n",
       "      <th>Asignatura</th>\n",
       "      <th>Nota promedio</th>\n",
       "      <th>Asistencia</th>\n",
       "      <th>Estado</th>\n",
       "    </tr>\n",
       "  </thead>\n",
       "  <tbody>\n",
       "    <tr>\n",
       "      <th>0</th>\n",
       "      <td>Matemáticas</td>\n",
       "      <td>6.3</td>\n",
       "      <td>0.98</td>\n",
       "      <td>Destacado</td>\n",
       "    </tr>\n",
       "  </tbody>\n",
       "</table>\n",
       "</div>"
      ],
      "text/plain": [
       "    Asignatura  Nota promedio  Asistencia     Estado\n",
       "0  Matemáticas            6.3        0.98  Destacado"
      ]
     },
     "metadata": {},
     "output_type": "display_data"
    }
   ],
   "source": [
    "df[(df[\"Nota promedio\"] >= 6) & (df[\"Asistencia\"] >= 0.9)]\n",
    "\n",
    "df_test = df[df[\"Nota promedio\"] >= 6]\n",
    "df_test = df_test[df_test[\"Asistencia\"] >= 0.9]\n",
    "\n",
    "display(df_test)"
   ]
  },
  {
   "cell_type": "code",
   "execution_count": 33,
   "id": "645476f0-bf8b-4f49-89e5-38d75d428c24",
   "metadata": {},
   "outputs": [
    {
     "data": {
      "text/html": [
       "<div>\n",
       "<style scoped>\n",
       "    .dataframe tbody tr th:only-of-type {\n",
       "        vertical-align: middle;\n",
       "    }\n",
       "\n",
       "    .dataframe tbody tr th {\n",
       "        vertical-align: top;\n",
       "    }\n",
       "\n",
       "    .dataframe thead th {\n",
       "        text-align: right;\n",
       "    }\n",
       "</style>\n",
       "<table border=\"1\" class=\"dataframe\">\n",
       "  <thead>\n",
       "    <tr style=\"text-align: right;\">\n",
       "      <th></th>\n",
       "      <th>Asignatura</th>\n",
       "      <th>Nota promedio</th>\n",
       "      <th>Asistencia</th>\n",
       "      <th>Estado</th>\n",
       "    </tr>\n",
       "  </thead>\n",
       "  <tbody>\n",
       "    <tr>\n",
       "      <th>0</th>\n",
       "      <td>Matemáticas</td>\n",
       "      <td>6.3</td>\n",
       "      <td>0.98</td>\n",
       "      <td>Destacado</td>\n",
       "    </tr>\n",
       "    <tr>\n",
       "      <th>1</th>\n",
       "      <td>Lenguaje</td>\n",
       "      <td>3.1</td>\n",
       "      <td>0.91</td>\n",
       "      <td>Reprobado</td>\n",
       "    </tr>\n",
       "    <tr>\n",
       "      <th>2</th>\n",
       "      <td>Historia</td>\n",
       "      <td>3.8</td>\n",
       "      <td>0.73</td>\n",
       "      <td>Reprobado</td>\n",
       "    </tr>\n",
       "    <tr>\n",
       "      <th>3</th>\n",
       "      <td>Ciencias</td>\n",
       "      <td>7.0</td>\n",
       "      <td>0.85</td>\n",
       "      <td>NaN</td>\n",
       "    </tr>\n",
       "    <tr>\n",
       "      <th>4</th>\n",
       "      <td>Música</td>\n",
       "      <td>6.8</td>\n",
       "      <td>0.66</td>\n",
       "      <td>Reprobado</td>\n",
       "    </tr>\n",
       "    <tr>\n",
       "      <th>5</th>\n",
       "      <td>Artes</td>\n",
       "      <td>2.7</td>\n",
       "      <td>0.82</td>\n",
       "      <td>Reprobado</td>\n",
       "    </tr>\n",
       "  </tbody>\n",
       "</table>\n",
       "</div>"
      ],
      "text/plain": [
       "    Asignatura  Nota promedio  Asistencia     Estado\n",
       "0  Matemáticas            6.3        0.98  Destacado\n",
       "1     Lenguaje            3.1        0.91  Reprobado\n",
       "2     Historia            3.8        0.73  Reprobado\n",
       "3     Ciencias            7.0        0.85        NaN\n",
       "4       Música            6.8        0.66  Reprobado\n",
       "5        Artes            2.7        0.82  Reprobado"
      ]
     },
     "metadata": {},
     "output_type": "display_data"
    }
   ],
   "source": [
    "# Las condiciones se escriben en parentesis y, dado que en este caso la condición es\n",
    "# que tenga nota mayor o igual a 6.0 Y asistencia mayor o igual al 90% se utiliza \"&\"\n",
    "df.loc[(df[\"Nota promedio\"] >= 6) & (df[\"Asistencia\"] >= 0.9), \"Estado\"] = \"Destacado\"\n",
    "display(df)"
   ]
  },
  {
   "cell_type": "markdown",
   "id": "badd3e41-a33c-4bad-a3ea-1958df8af3c0",
   "metadata": {},
   "source": [
    "<p>\n",
    "    Por último, solo nos queda asignar una etiqueta a los casos que faltan, que son aquellos alumnos que lograron aprobar el ramo. Para podríamos reutilizar uno de los filtros anterior (cambiandolo para que sea el caso contrario) o, lo que se hará en este caso, buscar todos los registros nulos en el campo de \"Estado\" y cambiarlos por \"Aprobado\". Esto se consigue de la siguiente forma:\n",
    "</p>"
   ]
  },
  {
   "cell_type": "code",
   "execution_count": 34,
   "id": "0b2d9ecb-8d0c-40af-b512-de117d2c7ed3",
   "metadata": {},
   "outputs": [
    {
     "data": {
      "text/html": [
       "<div>\n",
       "<style scoped>\n",
       "    .dataframe tbody tr th:only-of-type {\n",
       "        vertical-align: middle;\n",
       "    }\n",
       "\n",
       "    .dataframe tbody tr th {\n",
       "        vertical-align: top;\n",
       "    }\n",
       "\n",
       "    .dataframe thead th {\n",
       "        text-align: right;\n",
       "    }\n",
       "</style>\n",
       "<table border=\"1\" class=\"dataframe\">\n",
       "  <thead>\n",
       "    <tr style=\"text-align: right;\">\n",
       "      <th></th>\n",
       "      <th>Asignatura</th>\n",
       "      <th>Nota promedio</th>\n",
       "      <th>Asistencia</th>\n",
       "      <th>Estado</th>\n",
       "    </tr>\n",
       "  </thead>\n",
       "  <tbody>\n",
       "    <tr>\n",
       "      <th>3</th>\n",
       "      <td>Ciencias</td>\n",
       "      <td>7.0</td>\n",
       "      <td>0.85</td>\n",
       "      <td>NaN</td>\n",
       "    </tr>\n",
       "  </tbody>\n",
       "</table>\n",
       "</div>"
      ],
      "text/plain": [
       "  Asignatura  Nota promedio  Asistencia Estado\n",
       "3   Ciencias            7.0        0.85    NaN"
      ]
     },
     "execution_count": 34,
     "metadata": {},
     "output_type": "execute_result"
    }
   ],
   "source": [
    "df[df[\"Estado\"].isnull()]"
   ]
  },
  {
   "cell_type": "code",
   "execution_count": 35,
   "id": "9f88370d-da52-473f-b9d7-01ef56af7d15",
   "metadata": {},
   "outputs": [
    {
     "data": {
      "text/html": [
       "<div>\n",
       "<style scoped>\n",
       "    .dataframe tbody tr th:only-of-type {\n",
       "        vertical-align: middle;\n",
       "    }\n",
       "\n",
       "    .dataframe tbody tr th {\n",
       "        vertical-align: top;\n",
       "    }\n",
       "\n",
       "    .dataframe thead th {\n",
       "        text-align: right;\n",
       "    }\n",
       "</style>\n",
       "<table border=\"1\" class=\"dataframe\">\n",
       "  <thead>\n",
       "    <tr style=\"text-align: right;\">\n",
       "      <th></th>\n",
       "      <th>Asignatura</th>\n",
       "      <th>Nota promedio</th>\n",
       "      <th>Asistencia</th>\n",
       "      <th>Estado</th>\n",
       "    </tr>\n",
       "  </thead>\n",
       "  <tbody>\n",
       "    <tr>\n",
       "      <th>0</th>\n",
       "      <td>Matemáticas</td>\n",
       "      <td>6.3</td>\n",
       "      <td>0.98</td>\n",
       "      <td>Destacado</td>\n",
       "    </tr>\n",
       "    <tr>\n",
       "      <th>1</th>\n",
       "      <td>Lenguaje</td>\n",
       "      <td>3.1</td>\n",
       "      <td>0.91</td>\n",
       "      <td>Reprobado</td>\n",
       "    </tr>\n",
       "    <tr>\n",
       "      <th>2</th>\n",
       "      <td>Historia</td>\n",
       "      <td>3.8</td>\n",
       "      <td>0.73</td>\n",
       "      <td>Reprobado</td>\n",
       "    </tr>\n",
       "    <tr>\n",
       "      <th>3</th>\n",
       "      <td>Ciencias</td>\n",
       "      <td>7.0</td>\n",
       "      <td>0.85</td>\n",
       "      <td>Aprobado</td>\n",
       "    </tr>\n",
       "    <tr>\n",
       "      <th>4</th>\n",
       "      <td>Música</td>\n",
       "      <td>6.8</td>\n",
       "      <td>0.66</td>\n",
       "      <td>Reprobado</td>\n",
       "    </tr>\n",
       "    <tr>\n",
       "      <th>5</th>\n",
       "      <td>Artes</td>\n",
       "      <td>2.7</td>\n",
       "      <td>0.82</td>\n",
       "      <td>Reprobado</td>\n",
       "    </tr>\n",
       "  </tbody>\n",
       "</table>\n",
       "</div>"
      ],
      "text/plain": [
       "    Asignatura  Nota promedio  Asistencia     Estado\n",
       "0  Matemáticas            6.3        0.98  Destacado\n",
       "1     Lenguaje            3.1        0.91  Reprobado\n",
       "2     Historia            3.8        0.73  Reprobado\n",
       "3     Ciencias            7.0        0.85   Aprobado\n",
       "4       Música            6.8        0.66  Reprobado\n",
       "5        Artes            2.7        0.82  Reprobado"
      ]
     },
     "metadata": {},
     "output_type": "display_data"
    }
   ],
   "source": [
    "# Para filtrar un campo y traiga todas sus filas donde un campo sea nulo se utiliza el comando \"isnull()\"\n",
    "df.loc[df[\"Estado\"].isnull(), \"Estado\"] = \"Aprobado\"\n",
    "display(df)"
   ]
  },
  {
   "cell_type": "markdown",
   "id": "0473c8ff-c67e-4edd-8af5-9dd968532917",
   "metadata": {},
   "source": [
    "<p>\n",
    "    Ya con toda la información lista, lo último que se necesita es conocer cuales son las asignaturas que aprobó el estudiantes (\"Aprobado\" y \"Destacado\"). Existen tres formas con las que podamos lograr esto:\n",
    "</p>\n",
    "<h3>Uso de negación</h3>\n",
    "<p>\n",
    "    Se puede anteponer <code>~</code> para negar una condición, es decir, se invierte su resultado, si es <code>True</code> pasa a ser <code>False</code> y viceversa.\n",
    "</p>"
   ]
  },
  {
   "cell_type": "code",
   "execution_count": 38,
   "id": "4cc57324-d64b-427d-a19a-fd5ca03cd60d",
   "metadata": {},
   "outputs": [
    {
     "data": {
      "text/html": [
       "<div>\n",
       "<style scoped>\n",
       "    .dataframe tbody tr th:only-of-type {\n",
       "        vertical-align: middle;\n",
       "    }\n",
       "\n",
       "    .dataframe tbody tr th {\n",
       "        vertical-align: top;\n",
       "    }\n",
       "\n",
       "    .dataframe thead th {\n",
       "        text-align: right;\n",
       "    }\n",
       "</style>\n",
       "<table border=\"1\" class=\"dataframe\">\n",
       "  <thead>\n",
       "    <tr style=\"text-align: right;\">\n",
       "      <th></th>\n",
       "      <th>Asignatura</th>\n",
       "      <th>Nota promedio</th>\n",
       "      <th>Asistencia</th>\n",
       "      <th>Estado</th>\n",
       "    </tr>\n",
       "  </thead>\n",
       "  <tbody>\n",
       "    <tr>\n",
       "      <th>0</th>\n",
       "      <td>Matemáticas</td>\n",
       "      <td>6.3</td>\n",
       "      <td>0.98</td>\n",
       "      <td>Destacado</td>\n",
       "    </tr>\n",
       "    <tr>\n",
       "      <th>3</th>\n",
       "      <td>Ciencias</td>\n",
       "      <td>7.0</td>\n",
       "      <td>0.85</td>\n",
       "      <td>Aprobado</td>\n",
       "    </tr>\n",
       "  </tbody>\n",
       "</table>\n",
       "</div>"
      ],
      "text/plain": [
       "    Asignatura  Nota promedio  Asistencia     Estado\n",
       "0  Matemáticas            6.3        0.98  Destacado\n",
       "3     Ciencias            7.0        0.85   Aprobado"
      ]
     },
     "metadata": {},
     "output_type": "display_data"
    }
   ],
   "source": [
    "# En este caso, al anteponer \"~\" significaría que se buscan aquellos registros que no sean iguales a \"Repobrado\"\n",
    "df_aprobados = df[~(df[\"Estado\"] == \"Reprobado\")]\n",
    "display(df_aprobados)"
   ]
  },
  {
   "cell_type": "markdown",
   "id": "e5f534b5-0de0-41f2-bb38-02bc285971ff",
   "metadata": {},
   "source": [
    "<h3>Distinto</h3>\n",
    "<p>\n",
    "    Se puede utilizar un simbolo opuesto al igual, que sería el <code>!=</code>. Se expresa de la siguiente forma.\n",
    "</p>"
   ]
  },
  {
   "cell_type": "code",
   "execution_count": 39,
   "id": "e3f2616f-d37e-4c93-a726-f34bc6d04f3e",
   "metadata": {},
   "outputs": [
    {
     "data": {
      "text/html": [
       "<div>\n",
       "<style scoped>\n",
       "    .dataframe tbody tr th:only-of-type {\n",
       "        vertical-align: middle;\n",
       "    }\n",
       "\n",
       "    .dataframe tbody tr th {\n",
       "        vertical-align: top;\n",
       "    }\n",
       "\n",
       "    .dataframe thead th {\n",
       "        text-align: right;\n",
       "    }\n",
       "</style>\n",
       "<table border=\"1\" class=\"dataframe\">\n",
       "  <thead>\n",
       "    <tr style=\"text-align: right;\">\n",
       "      <th></th>\n",
       "      <th>Asignatura</th>\n",
       "      <th>Nota promedio</th>\n",
       "      <th>Asistencia</th>\n",
       "      <th>Estado</th>\n",
       "    </tr>\n",
       "  </thead>\n",
       "  <tbody>\n",
       "    <tr>\n",
       "      <th>0</th>\n",
       "      <td>Matemáticas</td>\n",
       "      <td>6.3</td>\n",
       "      <td>0.98</td>\n",
       "      <td>Destacado</td>\n",
       "    </tr>\n",
       "    <tr>\n",
       "      <th>3</th>\n",
       "      <td>Ciencias</td>\n",
       "      <td>7.0</td>\n",
       "      <td>0.85</td>\n",
       "      <td>Aprobado</td>\n",
       "    </tr>\n",
       "  </tbody>\n",
       "</table>\n",
       "</div>"
      ],
      "text/plain": [
       "    Asignatura  Nota promedio  Asistencia     Estado\n",
       "0  Matemáticas            6.3        0.98  Destacado\n",
       "3     Ciencias            7.0        0.85   Aprobado"
      ]
     },
     "metadata": {},
     "output_type": "display_data"
    }
   ],
   "source": [
    "df_aprobados = df[df[\"Estado\"] != \"Reprobado\"]\n",
    "display(df_aprobados)"
   ]
  },
  {
   "cell_type": "markdown",
   "id": "2a138cf0-d7be-449b-92b2-ba1eb8a54ba8",
   "metadata": {},
   "source": [
    "<h3>Pertenece a una lista</h3>\n",
    "<p>\n",
    "    En lugar de pedir los valores distintos a \"Reprobado\" también podríamos pedir los que sean \"Destacado\" o \"Aprobador\". Para esto nos puede ayudar la función \"isin([])\", donde dentro de esta se entrega una lista con los valores que queremos traer de la tabla.\n",
    "</p>"
   ]
  },
  {
   "cell_type": "code",
   "execution_count": 40,
   "id": "3348d2ca-e574-4b6e-ae36-028e4aa07a71",
   "metadata": {},
   "outputs": [
    {
     "data": {
      "text/html": [
       "<div>\n",
       "<style scoped>\n",
       "    .dataframe tbody tr th:only-of-type {\n",
       "        vertical-align: middle;\n",
       "    }\n",
       "\n",
       "    .dataframe tbody tr th {\n",
       "        vertical-align: top;\n",
       "    }\n",
       "\n",
       "    .dataframe thead th {\n",
       "        text-align: right;\n",
       "    }\n",
       "</style>\n",
       "<table border=\"1\" class=\"dataframe\">\n",
       "  <thead>\n",
       "    <tr style=\"text-align: right;\">\n",
       "      <th></th>\n",
       "      <th>Asignatura</th>\n",
       "      <th>Nota promedio</th>\n",
       "      <th>Asistencia</th>\n",
       "      <th>Estado</th>\n",
       "    </tr>\n",
       "  </thead>\n",
       "  <tbody>\n",
       "    <tr>\n",
       "      <th>0</th>\n",
       "      <td>Matemáticas</td>\n",
       "      <td>6.3</td>\n",
       "      <td>0.98</td>\n",
       "      <td>Destacado</td>\n",
       "    </tr>\n",
       "    <tr>\n",
       "      <th>3</th>\n",
       "      <td>Ciencias</td>\n",
       "      <td>7.0</td>\n",
       "      <td>0.85</td>\n",
       "      <td>Aprobado</td>\n",
       "    </tr>\n",
       "  </tbody>\n",
       "</table>\n",
       "</div>"
      ],
      "text/plain": [
       "    Asignatura  Nota promedio  Asistencia     Estado\n",
       "0  Matemáticas            6.3        0.98  Destacado\n",
       "3     Ciencias            7.0        0.85   Aprobado"
      ]
     },
     "metadata": {},
     "output_type": "display_data"
    }
   ],
   "source": [
    "lista = [\"Aprobado\", \"Destacado\"]\n",
    "df_aprobados = df[df[\"Estado\"].isin(lista)]\n",
    "display(df_aprobados)"
   ]
  },
  {
   "cell_type": "markdown",
   "id": "bd02c542-e6cf-4255-b243-39c60468f021",
   "metadata": {},
   "source": [
    "<h3>Funciones adicionales</h3>\n",
    "<p>\n",
    "    Existen una serie de funciones adicionales para trabajar con DataFrames. A continuación, se entrega alguna de ellas.\n",
    "</p>\n",
    "<h4>DataFrame.columns</h4>"
   ]
  },
  {
   "cell_type": "code",
   "execution_count": 41,
   "id": "4d23c480-9faf-40b0-ae8a-77a14721ab70",
   "metadata": {},
   "outputs": [
    {
     "name": "stdout",
     "output_type": "stream",
     "text": [
      "Index(['Asignatura', 'Nota promedio', 'Asistencia', 'Estado'], dtype='object')\n"
     ]
    }
   ],
   "source": [
    "# Función que permite obtener nombres de campo\n",
    "print(df.columns)"
   ]
  },
  {
   "cell_type": "code",
   "execution_count": 42,
   "id": "02dd68cf-da09-4f26-9120-31205da0c6e4",
   "metadata": {},
   "outputs": [
    {
     "name": "stdout",
     "output_type": "stream",
     "text": [
      "Index(['asignatura', 'nota_promedio', 'asistencia', 'estado'], dtype='object')\n"
     ]
    }
   ],
   "source": [
    "#También se pueden cambiar los nombres de las columnas llamando a esta función y asignando una lista con los nuevos\n",
    "df.columns = [\"asignatura\", \"nota_promedio\", \"asistencia\", \"estado\"]\n",
    "print(df.columns)"
   ]
  },
  {
   "cell_type": "markdown",
   "id": "4ea880ec-9b06-4c6c-9755-41dea592e896",
   "metadata": {},
   "source": [
    "<h4>DataFrame.dtypes</h4>\n",
    "<p>\n",
    "    Devuelve el tipo de cada uno de los campos.\n",
    "</p>"
   ]
  },
  {
   "cell_type": "code",
   "execution_count": 44,
   "id": "012ffe90-8a11-4d8c-a492-deac5ef12c00",
   "metadata": {},
   "outputs": [
    {
     "name": "stdout",
     "output_type": "stream",
     "text": [
      "asignatura        object\n",
      "nota_promedio    float64\n",
      "asistencia       float64\n",
      "estado            object\n",
      "dtype: object\n"
     ]
    }
   ],
   "source": [
    "print(df.dtypes)"
   ]
  },
  {
   "cell_type": "markdown",
   "id": "c18bd715-e070-4a70-9131-f47bfe0b1e3e",
   "metadata": {},
   "source": [
    "<h4>DataFrame.iat</h4>\n",
    "<p>\n",
    "    Permite acceder a un valor del DataFrame ingresando por medio de sus indices de fila y columnas de la forma <code>iat[fila, columna]</code>. La posición siempre comienza en 0.\n",
    "</p>"
   ]
  },
  {
   "cell_type": "code",
   "execution_count": 45,
   "id": "7a5a4b02-2d93-4f1c-a5da-a08bac344d64",
   "metadata": {},
   "outputs": [
    {
     "data": {
      "text/html": [
       "<div>\n",
       "<style scoped>\n",
       "    .dataframe tbody tr th:only-of-type {\n",
       "        vertical-align: middle;\n",
       "    }\n",
       "\n",
       "    .dataframe tbody tr th {\n",
       "        vertical-align: top;\n",
       "    }\n",
       "\n",
       "    .dataframe thead th {\n",
       "        text-align: right;\n",
       "    }\n",
       "</style>\n",
       "<table border=\"1\" class=\"dataframe\">\n",
       "  <thead>\n",
       "    <tr style=\"text-align: right;\">\n",
       "      <th></th>\n",
       "      <th>asignatura</th>\n",
       "      <th>nota_promedio</th>\n",
       "      <th>asistencia</th>\n",
       "      <th>estado</th>\n",
       "    </tr>\n",
       "  </thead>\n",
       "  <tbody>\n",
       "    <tr>\n",
       "      <th>0</th>\n",
       "      <td>Matemáticas</td>\n",
       "      <td>6.3</td>\n",
       "      <td>0.98</td>\n",
       "      <td>Destacado</td>\n",
       "    </tr>\n",
       "    <tr>\n",
       "      <th>1</th>\n",
       "      <td>Lenguaje</td>\n",
       "      <td>3.1</td>\n",
       "      <td>0.91</td>\n",
       "      <td>Reprobado</td>\n",
       "    </tr>\n",
       "    <tr>\n",
       "      <th>2</th>\n",
       "      <td>Historia</td>\n",
       "      <td>3.8</td>\n",
       "      <td>0.73</td>\n",
       "      <td>Reprobado</td>\n",
       "    </tr>\n",
       "    <tr>\n",
       "      <th>3</th>\n",
       "      <td>Ciencias</td>\n",
       "      <td>7.0</td>\n",
       "      <td>0.85</td>\n",
       "      <td>Aprobado</td>\n",
       "    </tr>\n",
       "    <tr>\n",
       "      <th>4</th>\n",
       "      <td>Música</td>\n",
       "      <td>6.8</td>\n",
       "      <td>0.66</td>\n",
       "      <td>Reprobado</td>\n",
       "    </tr>\n",
       "    <tr>\n",
       "      <th>5</th>\n",
       "      <td>Artes</td>\n",
       "      <td>2.7</td>\n",
       "      <td>0.82</td>\n",
       "      <td>Reprobado</td>\n",
       "    </tr>\n",
       "  </tbody>\n",
       "</table>\n",
       "</div>"
      ],
      "text/plain": [
       "    asignatura  nota_promedio  asistencia     estado\n",
       "0  Matemáticas            6.3        0.98  Destacado\n",
       "1     Lenguaje            3.1        0.91  Reprobado\n",
       "2     Historia            3.8        0.73  Reprobado\n",
       "3     Ciencias            7.0        0.85   Aprobado\n",
       "4       Música            6.8        0.66  Reprobado\n",
       "5        Artes            2.7        0.82  Reprobado"
      ]
     },
     "execution_count": 45,
     "metadata": {},
     "output_type": "execute_result"
    }
   ],
   "source": [
    "df"
   ]
  },
  {
   "cell_type": "code",
   "execution_count": 46,
   "id": "e2e4f38e-9e0a-40bb-8ddc-c0fdd218bac0",
   "metadata": {},
   "outputs": [
    {
     "name": "stdout",
     "output_type": "stream",
     "text": [
      "El valor encontrado en la fila 1 y columnas 1 es: 3.1\n"
     ]
    }
   ],
   "source": [
    "# iat[1, 1]\n",
    "row = 1\n",
    "col = 1\n",
    "print(\"El valor encontrado en la fila \" + str(row) + \" y columnas \" + str(col) + \" es: \" + str(df.iat[row,col]))"
   ]
  },
  {
   "cell_type": "code",
   "execution_count": 47,
   "id": "66347693-40c1-457a-8879-32c2985df3d1",
   "metadata": {},
   "outputs": [
    {
     "name": "stdout",
     "output_type": "stream",
     "text": [
      "El valor encontrado en la fila 3 y columnas 2 es: 0.85\n"
     ]
    }
   ],
   "source": [
    "# iat[3, 2]\n",
    "row = 3\n",
    "col = 2\n",
    "print(\"El valor encontrado en la fila \" + str(row) + \" y columnas \" + str(col) + \" es: \" + str(df.iat[row,col]))"
   ]
  },
  {
   "cell_type": "code",
   "execution_count": 49,
   "id": "6bfce600-4dd4-4f06-9000-2f88a87fed96",
   "metadata": {},
   "outputs": [
    {
     "name": "stdout",
     "output_type": "stream",
     "text": [
      "El valor encontrado en la fila 4 y columnas 3 es: Reprobado\n"
     ]
    }
   ],
   "source": [
    "# iat[4, 3]\n",
    "row = 4\n",
    "col = 3\n",
    "print(\"El valor encontrado en la fila \" + str(row) + \" y columnas \" + str(col) + \" es: \" + str(df.iat[row,col]))"
   ]
  },
  {
   "cell_type": "markdown",
   "id": "47c62f45-bc68-47f1-bc69-09de7da60a49",
   "metadata": {},
   "source": [
    "<h4>DataFrame.shape</h4>\n",
    "<p>Comando que devuelve las dimensiones de la tabla, es decir, número de filas y columnas.</p>"
   ]
  },
  {
   "cell_type": "code",
   "execution_count": 50,
   "id": "e93c1062-c449-40c1-9e1d-3cce8bd09eee",
   "metadata": {},
   "outputs": [
    {
     "name": "stdout",
     "output_type": "stream",
     "text": [
      "(6, 4)\n"
     ]
    }
   ],
   "source": [
    "print(df.shape)"
   ]
  }
 ],
 "metadata": {
  "kernelspec": {
   "display_name": "Python 3 (ipykernel)",
   "language": "python",
   "name": "python3"
  },
  "language_info": {
   "codemirror_mode": {
    "name": "ipython",
    "version": 3
   },
   "file_extension": ".py",
   "mimetype": "text/x-python",
   "name": "python",
   "nbconvert_exporter": "python",
   "pygments_lexer": "ipython3",
   "version": "3.9.12"
  }
 },
 "nbformat": 4,
 "nbformat_minor": 5
}
