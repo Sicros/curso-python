{
 "cells": [
  {
   "cell_type": "markdown",
   "id": "316a006a-7f34-41ae-99d6-2acb2bbc00a1",
   "metadata": {},
   "source": [
    "<h1>Funciones recursivas: ¿Qué uso tiene?...</h1>\n",
    "<p>\n",
    "    Las funciones recursivas, en varias situaciones, permiten realizar tareas que se pueden conseguir por medio de funciones cíclicas, como lo serían <strong>WHILE</strong> y <strong>FOR</strong>, es decir, poder ejecutar una o varias funciones de manera consecutiva cambiando los valores (o no) que puedan ingresarse en estas.\n",
    "</p>\n",
    "\n",
    "<p>\n",
    "    A continuación, y a modo de ejemplo, se entregan dos funciones que cumplen el mismo fin, el que corresponde a calcular la sumatoria de un número. En el primer caso se usa una función cíclica y en el segundo una recursiva.\n",
    "</p>"
   ]
  },
  {
   "cell_type": "code",
   "execution_count": 1,
   "id": "c0f58d31-ab64-4dd3-b238-31e67d947f25",
   "metadata": {},
   "outputs": [],
   "source": [
    "# Parámetros globales\n",
    "N = 100"
   ]
  },
  {
   "cell_type": "markdown",
   "id": "c96e398d-35ad-4856-927c-e1bff0d77491",
   "metadata": {},
   "source": [
    "<h2>Funciones de ejemplo</h2>"
   ]
  },
  {
   "cell_type": "markdown",
   "id": "f4e9dae7-9e9d-40dd-83ae-e930802abaa6",
   "metadata": {
    "tags": []
   },
   "source": [
    "<h3>Función cíclica</h3>"
   ]
  },
  {
   "cell_type": "code",
   "execution_count": 2,
   "id": "8f10da55-3893-41ed-8bbd-05b4602d2804",
   "metadata": {},
   "outputs": [
    {
     "name": "stdout",
     "output_type": "stream",
     "text": [
      "La sumatoria de N = 100 es: 5050\n"
     ]
    }
   ],
   "source": [
    "# Obteniendo la sumatoria de N usando WHILE\n",
    "resultado = 0\n",
    "i = 1\n",
    "while i <= N:\n",
    "    resultado = resultado + i\n",
    "    i = i + 1\n",
    "print(\"La sumatoria de N = {0} es: {1}\".format(N, resultado))"
   ]
  },
  {
   "cell_type": "markdown",
   "id": "fc149400-2237-400c-9269-1ebcbc817b2a",
   "metadata": {},
   "source": [
    "<h3>Función recursiva</h3>"
   ]
  },
  {
   "cell_type": "code",
   "execution_count": null,
   "id": "c1ff22da-7516-44bf-8ed7-2cfab7f3b50a",
   "metadata": {},
   "outputs": [],
   "source": [
    "#sumatoria(100)\n",
    "#retorna: 100 + sumatoria(99)\n",
    "\n",
    "#sumatoria(99)\n",
    "#retorna: 99 + sumatoria(98)\n",
    "#..\n",
    "#..\n",
    "#..\n",
    "#sumatoria(1)\n",
    "#retorna 1"
   ]
  },
  {
   "cell_type": "code",
   "execution_count": 13,
   "id": "be3d3a56-48d5-4ae5-8fd9-8f38c93e5ba8",
   "metadata": {},
   "outputs": [
    {
     "name": "stdout",
     "output_type": "stream",
     "text": [
      "La sumatoria de N = 100 es: 5050\n"
     ]
    }
   ],
   "source": [
    "# Obteniendo la sumatoria de N usando funciones recursivas\n",
    "def sumatoria(N):\n",
    "    if N == 1:\n",
    "        return 1\n",
    "    else:\n",
    "        return N + sumatoria(N - 1)\n",
    "\n",
    "resultado = sumatoria(N)\n",
    "print(\"La sumatoria de N = {0} es: {1}\".format(N, resultado))"
   ]
  },
  {
   "cell_type": "markdown",
   "id": "0ff13d80-a948-4327-b574-0e32b01d0832",
   "metadata": {},
   "source": [
    "<h2>Uso de funciones recursivas</h2>\n",
    "<p>\n",
    "    Se observa que una función recursiva puede ser escrita en menos líneas que una cíclica, pero si puede llegar a ser un poco más complicado de entender al momento de leerla.\n",
    "</p>\n",
    "<p>\n",
    "    Entonces... ¿para qué usar la recursión, si con un loop puedo llegar a la solución?\n",
    "</p>\n",
    "<p>\n",
    "    <center><img src=\"https://www.reactiongifs.com/r/but-why.gif\"></center>\n",
    "</p>\n",
    "<p>\n",
    "    Si bien las funciones cíclicas permiten llegar a la solución, no siempre es la respuesta correcta. Para entender un poco más, trabajaremos con el siguiente ejemplo...\n",
    "</p>"
   ]
  },
  {
   "cell_type": "markdown",
   "id": "6f83433a-5291-4e72-a1a0-b81279183470",
   "metadata": {},
   "source": [
    "<h3>La serie de Fibonacci</h3>\n",
    "<p>\n",
    "    La serie de fibonacci es una suceción de números infinita, en la que cada número corresponde a la suma de los dos valores anteriores, tomando siempre como base los valores <strong>0 y 1</strong>. Para entender como esta funciona se muestran los primeros valores de esta serie:\n",
    "</p>\n",
    "<p>\n",
    "    $$0,1,1,2,3,5,8,13,21,34,55,89,144,233...$$\n",
    "</p>\n",
    "<p>\n",
    "    Gracias a python y sus funciones, nosotros podemos obtener el número que se encuentra en una posición determinada de esta serie y para este caso se utilizará una función recursiva (considera la primera posición como $0$).\n",
    "</p>"
   ]
  },
  {
   "cell_type": "code",
   "execution_count": 22,
   "id": "fb2e2e88-5cd2-494d-ba06-777a27dfedab",
   "metadata": {},
   "outputs": [
    {
     "name": "stdout",
     "output_type": "stream",
     "text": [
      "El valor que se encuentra en la posición 5 es 5\n"
     ]
    }
   ],
   "source": [
    "posicion = 5\n",
    "\n",
    "def serie_fibonacci(n):\n",
    "    if n == 0:\n",
    "        return 0\n",
    "    elif n == 1:\n",
    "        return 1\n",
    "    else:\n",
    "        return serie_fibonacci(n - 1) + serie_fibonacci(n - 2)\n",
    "\n",
    "resultado = serie_fibonacci(posicion)\n",
    "print(\"El valor que se encuentra en la posición {0} es {1}\".format(posicion, resultado))"
   ]
  },
  {
   "cell_type": "markdown",
   "id": "50ad7543-5944-4ce4-95a8-df220487282a",
   "metadata": {},
   "source": [
    "<p>\n",
    "    Para entender como funciona esta recursión se muestra la siguiente imagen para el ejemplo de la posición 5, donde se explica el paso a paso de la función:\n",
    "</p>\n",
    "<p>\n",
    "    <center><img src=\"./images/Serie Fibonacci (Posición 5).png\"></center>\n",
    "</p>\n",
    "<p>\n",
    "    Tal como se observa, la función se invoca así misma pasando como parametros los dos valores anteriores, los que se van reduciendo hasta ser $0$ o $1$. Luego el resultado de todo esto es sumado y devuelto.\n",
    "</p>\n",
    "<p>\n",
    "    Otra cosa que se puede rescatar de esta función, es que no es cíclica como tal, ya que distribuye el trabajo, formando como una especie de árbol donde cada rama es una función. Haber conseguido esto con una función cíclica habría sido imposible o muy complejo, por lo que la recursión es la mejor solución para este caso u otros, como lo serían árbol genealógicos, herencias o cualquiera en el que se necesita mantener algún valor pasado.\n",
    "</p>"
   ]
  },
  {
   "cell_type": "markdown",
   "id": "53acdcd6-4819-417d-bbf9-1407f459676d",
   "metadata": {},
   "source": [
    "<h2> Entonces...</h2>\n",
    "<p>\n",
    "    <strong>\n",
    "        ¿Son mejores las recursiones por sobre los loops?\n",
    "    </strong>\n",
    "    Y la respuesta es...\n",
    "    <center><img src=\"https://media2.giphy.com/media/daPCSjwus6UR2JxRX1/giphy.gif\"></center>\n",
    "</p>\n",
    "<p>\n",
    "    Como se pudo ver en el caso anterior, ambas tienen usos completamente diferentes. Si bien la recursión permite solucionar problemas que los ciclos no, estas no siempre son la mejor opción, ya que tienden a utilizar más memoria (debido a que deben almacenar los resultados de la función cada vez que la llama) y son más complicadas de leer y entender su funcionamiento, por lo que cada una tiene su uso y es importante detectar en que caso una es mejor que la otra.\n",
    "</p>"
   ]
  },
  {
   "cell_type": "markdown",
   "id": "6b75c866-a447-49a9-944c-43d37b0d5455",
   "metadata": {},
   "source": [
    "<h2>Ejercicios de práctica</h2>\n",
    "<ol>\n",
    "    <li>\n",
    "        Se acerca año nuevo y al público le gustaría tener un programa que permita hacer el conteo hacía atrás. Para lograr esto, se pide construir una función recursiva que pueda recibir un número (entero y positivo) e imprima todos sus antecesores, pero que al llegar a $0$, en lugar de imprimir el número, imprima el mensaje \"¡FELIZ AÑO NUEVO!\". Ejemplo:\n",
    "        <pre>\n",
    "        <strong>Entrada:</strong>\n",
    "        numero: 5\n",
    "        <strong>Salida</strong>:\n",
    "        5\n",
    "        4\n",
    "        3\n",
    "        2\n",
    "        1\n",
    "        ¡FELIZ AÑO NUEVO!\n",
    "        </pre>\n",
    "    </li>\n",
    "    <li>\n",
    "        Los palindromos son conocidos como aquellas palabras que, si son escritas al revés letra por letra, siguen significando exactamente lo mismo. Ejemplos de estos son \"oso\", \"oro\", \"reconocer\", entre otros. Se pide crear una función recursiva que reciba una palabra e identifique si esta es un palindromo, devolviendo un <code>True</code> si lo es o un <code>False</code> si no.\n",
    "    </li>\n",
    "    <li>\n",
    "        Construir una función recursiva para calcular la factorial de un número $n$. La factorial corresponde al producto del número con sus antecesores. Se refleja en la siguiente formula:\n",
    "        $$f(n) = n! = n*(n-1)*...*3*2*1$$\n",
    "        Por ejemplo la factorial de 5, sería:\n",
    "        $$f(5) = 5*4*3*2*1 = 120.$$\n",
    "        <strong>\n",
    "        </strong>\n",
    "    </li>\n",
    "</ol>"
   ]
  }
 ],
 "metadata": {
  "kernelspec": {
   "display_name": "Python 3 (ipykernel)",
   "language": "python",
   "name": "python3"
  },
  "language_info": {
   "codemirror_mode": {
    "name": "ipython",
    "version": 3
   },
   "file_extension": ".py",
   "mimetype": "text/x-python",
   "name": "python",
   "nbconvert_exporter": "python",
   "pygments_lexer": "ipython3",
   "version": "3.9.12"
  }
 },
 "nbformat": 4,
 "nbformat_minor": 5
}
