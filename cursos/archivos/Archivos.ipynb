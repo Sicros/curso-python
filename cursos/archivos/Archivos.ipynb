{
 "cells": [
  {
   "cell_type": "markdown",
   "id": "304cd3c1-a8eb-4c84-9e68-aac705bba8f7",
   "metadata": {},
   "source": [
    "<h1>Archivos</h1>\n",
    "<p>\n",
    "    Hasta el momento solo se ha trabajado con valores y textos generados en el mismo código para realizar pruebas y trabajar con las funciones que hemos creado, pero la verdad es que en la realidad gran parte de los datos que consumirán nuestros procesos provienen de elementos completamente externos (archivos de textos, excel, incluso imágenes, vídeos, audios, entre muchos otros más).\n",
    "</p>\n",
    "<p>\n",
    "    Dado lo anterior es importante conocer que con Python podemos leer distintos tipos de archivos y que posee funciones especiales para lograr este objetivo. Pero antes de entrar a la lectura, crearemos un archivo e insertaremos texto en él.\n",
    "</p>"
   ]
  },
  {
   "cell_type": "markdown",
   "id": "7aa9b8a5-d760-4ab7-a078-5c1cc4557251",
   "metadata": {},
   "source": [
    "<h2>Crear y escribir archivos</h2>\n",
    "<p>\n",
    "    Para este caso, iremos a un ejemplo muy clásico dentró del mundo de la programación y crearemos un archivo que abra un archivo de texto (puede existir o no) y escribiremos en él la frase \"Hola Mundo !\". Para lograr esto se puede hacer por medio del siguiente código.\n",
    "</p>"
   ]
  },
  {
   "cell_type": "code",
   "execution_count": 15,
   "id": "5d24044b-5b61-44cc-8cb0-d8d47c510dfc",
   "metadata": {},
   "outputs": [],
   "source": [
    "f = open('holamundo.txt','w')"
   ]
  },
  {
   "cell_type": "code",
   "execution_count": 20,
   "id": "cbbeaac7-a779-4480-b3cb-b2184274213e",
   "metadata": {},
   "outputs": [
    {
     "data": {
      "text/plain": [
       "10"
      ]
     },
     "execution_count": 20,
     "metadata": {},
     "output_type": "execute_result"
    }
   ],
   "source": [
    "f.write('hola mundo')"
   ]
  },
  {
   "cell_type": "code",
   "execution_count": 21,
   "id": "d7249096-3695-4bb2-b804-8d932a03af87",
   "metadata": {},
   "outputs": [],
   "source": [
    "f.close()"
   ]
  },
  {
   "cell_type": "code",
   "execution_count": 23,
   "id": "62b98e01-d4db-4e4b-9dd1-044212f406a0",
   "metadata": {},
   "outputs": [],
   "source": [
    "with open('holamundo.txt','w') as f:\n",
    "    f.write('hola mundo\\n')\n",
    "    f.write('chao mundo')"
   ]
  },
  {
   "cell_type": "markdown",
   "id": "222bd7f7-2eda-44e2-a373-3092ea94425d",
   "metadata": {},
   "source": [
    "<p>\n",
    "    Para entender bien como funciona todo esto, se explicará paso a paso cada acción realizada.\n",
    "    <ol>\n",
    "        <li><code>f = open('holamundo.txt','w')</code>: En este caso el comando <code>open</code> indica que abrirá un archivo, el primer parámetro, que en este caso corresponde a <code>'holamundo.txt'</code> indica la ruta del archivo que desea abrir (en caso de que este archivo no exista lo crea). El segundo parámetro <code>'w'</code> indica que acción realizará con el archivo, en este caso la <code>'w'</code> indica que se abrirá el archivo con el fin de escribir en él. Se asigna esta instrucción a una variable <code>f</code> con la que nos comunicaremos para hacer cada tarea.\n",
    "        </li>\n",
    "        <li><code>f.write('hola mundo')</code>: Función con la se escribe en el archivo texto. Dentro de la función se ingresael texto, el cual puede ser también una variable.\n",
    "        </li>\n",
    "        <li><code>f.close()</code>: Una vez se haya terminado de trabajar con el archivo, es importante cerrarlo y gracias a este comando se logra esto.\n",
    "        </li>\n",
    "    </ol>\n",
    "    Es importante destacar que este comando reescribe por completo el archivo, por lo que si se utiliza <code>'w'</code> eliminará todo el contenido ya existente en el archivo y escribirá el nuevo. En el caso de que se desee escribir al final del texto ya existente se puede reemplazar la <code>'w'</code> por <code>'a'</code>.\n",
    "</p>"
   ]
  },
  {
   "cell_type": "code",
   "execution_count": 24,
   "id": "89a81f84-bcbe-4f5e-be90-f8967880344b",
   "metadata": {},
   "outputs": [],
   "source": [
    "f = open('holamundo.txt','a')\n",
    "f.write('\\nhola mundo')\n",
    "f.close()"
   ]
  },
  {
   "cell_type": "markdown",
   "id": "a475221c-184c-42d0-91ca-a5247ef23072",
   "metadata": {},
   "source": [
    "<h2>Lectura de archivos</h2>\n",
    "<p>\n",
    "    La escritura de archivos es vital a la hora de guardar información y datos generados en el código de forma local y si se requieren para otra proceso, pero antes de eso, de algún lugar debemos consumir la información. Es por esto que en este punto se explicará y mostrará la forma de leer un archivo. A continuación, se entrega la función que permite esto:\n",
    "</p>"
   ]
  },
  {
   "cell_type": "code",
   "execution_count": 25,
   "id": "c61d95d8-8818-469d-bb05-187dd8294f4d",
   "metadata": {},
   "outputs": [
    {
     "name": "stdout",
     "output_type": "stream",
     "text": [
      "hola mundo\n",
      "chao mundo\n",
      "hola mundo\n"
     ]
    }
   ],
   "source": [
    "with open('holamundo.txt','r') as f:\n",
    "    mensaje = f.read()\n",
    "    print(mensaje)"
   ]
  },
  {
   "cell_type": "markdown",
   "id": "86bb36ad-e7fd-4696-a1f1-70a7870ea0c9",
   "metadata": {},
   "source": [
    "<p>\n",
    "    Podemos observar que las funciones entre lectura y escritura (agregar o sobreescribir) son muy similares, con la diferencia de que en lectura, en lugar de usar el comando <code>f.write()</code> se utiliza el de <code>f.read()</code>. Este último comando permite leer el contenido del texto y lo podemos almacenar en una variable para poder utilizarlo de la forma que necesitemos. En este caso se agrega la función de <code>print()</code> para mostrar el contenido del texto imprimiendo la varible en la que se almacenó.\n",
    "</p>"
   ]
  },
  {
   "cell_type": "markdown",
   "id": "9d89afc7-4f22-4b8f-a9cd-127e7caeb183",
   "metadata": {},
   "source": [
    "<h3>Lectura en profundidad</h3>\n",
    "<p>\n",
    "    Al momento de leer un archivo, primero se debe abrir, se debe considerar que todo este trabajo es similar a si una persona hiciera esto directamente. El usuario, una vez abre el archivo, puede ir navegando por él y posicionado su cursor en distintas líneas. Python trabaja de forma muy similar. Cuando Python abre el archivo, el cursos siempre empieza en la primera posición del documento y, dependiendo del comando utilizado, uno puede ir extrayendo el texto completo, linea por linea e incluso carácter por carácter.\n",
    "</p>\n",
    "<center>\n",
    "    <img src=\"https://media1.giphy.com/media/3o6MblAa0uE3a77V5K/giphy.gif?cid=ecf05e471olve054kiwd1fj8eascvomqzswj5a9py5bnyvba&rid=giphy.gif&ct=g\">\n",
    "</center>\n",
    "<p>\n",
    "    Hasta el momento se ha visto como leer un archivo y, si bien, pareciera que con el comando <code>read()</code> se leyera el archivo completo, tecnicamente no es así. Para entender por qué ocurre esto, es importante mencionar que existen tres formas de leer un archivo: <code>read()</code>, <code>readline()</code> y <code>readlines()</code>. A continuación se entrega el detalle de cada una de estas:\n",
    "    <ul>\n",
    "    <li><code>read()</code>: Comando utilizado en el ejemplo anterior para leer un archivo. Este comando lee desde la posición en la que se encuentra el cursos, hasta el final del documento.\n",
    "        <center><img src=\"./images/read_command.png\"></center></li>\n",
    "    </ul>\n",
    "</p>"
   ]
  },
  {
   "cell_type": "code",
   "execution_count": 33,
   "id": "74855037-61cf-4c8c-83dd-8a27d2b8946e",
   "metadata": {},
   "outputs": [
    {
     "name": "stdout",
     "output_type": "stream",
     "text": [
      "mensaje 1:\n",
      "Saludando a todos\n",
      "\n",
      "mensaje 2:\n",
      "hola mundo\n",
      "\n",
      "mensaje 3:\n",
      "chao mundo\n",
      "hola mundo\n"
     ]
    },
    {
     "data": {
      "text/plain": [
       "''"
      ]
     },
     "execution_count": 33,
     "metadata": {},
     "output_type": "execute_result"
    }
   ],
   "source": [
    "with open('holamundo.txt','r') as f:\n",
    "    mensaje1 = f.readline()\n",
    "    mensaje2 = f.readline()\n",
    "    mensaje3 = f.read()\n",
    "    mensaje4 = f.read()\n",
    "    print(\"mensaje 1:\\n\" + mensaje1)\n",
    "    print(\"mensaje 2:\\n\" + mensaje2)\n",
    "    print(\"mensaje 3:\\n\" + mensaje3)\n",
    "mensaje4"
   ]
  },
  {
   "cell_type": "code",
   "execution_count": 36,
   "id": "f3886bac-1f28-4a72-a4d9-317c019f2af3",
   "metadata": {},
   "outputs": [],
   "source": [
    "with open('holamundo.txt','r') as f:\n",
    "    lista = f.readlines()"
   ]
  },
  {
   "cell_type": "code",
   "execution_count": 38,
   "id": "cf26d6d3-e7cb-4eb3-bae0-9c40692824cf",
   "metadata": {},
   "outputs": [],
   "source": [
    "with open('ventas.txt','r') as f:\n",
    "    encabezados = f.readline()\n",
    "    valores = f.readlines()"
   ]
  }
 ],
 "metadata": {
  "kernelspec": {
   "display_name": "Python 3 (ipykernel)",
   "language": "python",
   "name": "python3"
  },
  "language_info": {
   "codemirror_mode": {
    "name": "ipython",
    "version": 3
   },
   "file_extension": ".py",
   "mimetype": "text/x-python",
   "name": "python",
   "nbconvert_exporter": "python",
   "pygments_lexer": "ipython3",
   "version": "3.9.12"
  }
 },
 "nbformat": 4,
 "nbformat_minor": 5
}
