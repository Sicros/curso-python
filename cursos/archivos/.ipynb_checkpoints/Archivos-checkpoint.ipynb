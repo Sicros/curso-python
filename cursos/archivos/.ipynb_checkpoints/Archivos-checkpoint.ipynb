{
 "cells": [
  {
   "cell_type": "markdown",
   "id": "304cd3c1-a8eb-4c84-9e68-aac705bba8f7",
   "metadata": {},
   "source": [
    "<h1>Archivos</h1>\n",
    "<p>\n",
    "    Hasta el momento solo se ha trabajado con valores y textos generados en el mismo código para realizar pruebas y trabajar con las funciones que hemos creado, pero la verdad es que en la realidad gran parte de los datos que consumirán nuestros procesos provienen de elementos completamente externos (archivos de textos, excel, incluso imágenes, vídeos, audios, entre muchos otros más).\n",
    "</p>\n",
    "<p>\n",
    "    Dado lo anterior es importante conocer que con Python podemos leer distintos tipos de archivos y que posee funciones especiales para lograr este objetivo. Pero antes de entrar a la lectura, crearemos un archivo e insertaremos texto en él.\n",
    "</p>"
   ]
  },
  {
   "cell_type": "markdown",
   "id": "7aa9b8a5-d760-4ab7-a078-5c1cc4557251",
   "metadata": {},
   "source": [
    "<h2>Crear y escribir archivos</h2>\n",
    "<p>\n",
    "    Para este caso, iremos a un ejemplo muy clásico dentró del mundo de la programación y crearemos un archivo que abra un archivo de texto (puede existir o no) y escribiremos en él la frase \"Hola Mundo !\". Para lograr esto se puede hacer por medio del siguiente código.\n",
    "</p>"
   ]
  },
  {
   "cell_type": "code",
   "execution_count": 2,
   "id": "5d24044b-5b61-44cc-8cb0-d8d47c510dfc",
   "metadata": {},
   "outputs": [],
   "source": [
    "# Se abre el documento para comenzar con su escritura. Esta instrucción se asigna a un variable \"f\"\n",
    "f = open('holamundo.txt','w')"
   ]
  },
  {
   "cell_type": "code",
   "execution_count": 3,
   "id": "cbbeaac7-a779-4480-b3cb-b2184274213e",
   "metadata": {},
   "outputs": [
    {
     "data": {
      "text/plain": [
       "11"
      ]
     },
     "execution_count": 3,
     "metadata": {},
     "output_type": "execute_result"
    }
   ],
   "source": [
    "# Dentro de write() se ingresa el texto a escribir. Esta función devuelve como resultado el largo del texto escrito.\n",
    "f.write('hola mundo\\n')"
   ]
  },
  {
   "cell_type": "code",
   "execution_count": 4,
   "id": "d7249096-3695-4bb2-b804-8d932a03af87",
   "metadata": {},
   "outputs": [],
   "source": [
    "# Instrucción para cerrar el documento una vez hecho todos los cambios\n",
    "f.close()"
   ]
  },
  {
   "cell_type": "markdown",
   "id": "bc64f12f-2eba-4fcd-bba2-36716bad54e8",
   "metadata": {},
   "source": [
    "<p>\n",
    "    También, para omitir el paso de cerrar el documento, nos podemos apoyar del comando <code>with</code>. De esta forma, todas las instrucciones realizadas dentro de él se harán con el documento abierto, para que, una vez se haya finalizado, este se cierre. Este método ayuda no solo a quitar una línea de código, sino que también a mantener organizada cada tarea relacionada a la escritura (o lectura del documento).\n",
    "</p>"
   ]
  },
  {
   "cell_type": "code",
   "execution_count": 23,
   "id": "62b98e01-d4db-4e4b-9dd1-044212f406a0",
   "metadata": {},
   "outputs": [],
   "source": [
    "with open('holamundo.txt','w') as f:\n",
    "    f.write('hola mundo\\n')\n",
    "    f.write('chao mundo')"
   ]
  },
  {
   "cell_type": "markdown",
   "id": "222bd7f7-2eda-44e2-a373-3092ea94425d",
   "metadata": {},
   "source": [
    "<p>\n",
    "    Para entender bien como funciona todo esto, se explicará paso a paso cada acción realizada.\n",
    "    <ol>\n",
    "        <li><code>f = open('holamundo.txt','w')</code> o <code>with open('holamundo.txt','w') as f:</code>: En este caso el comando <code>open</code> indica que abrirá un archivo, el primer parámetro, que en este caso corresponde a <code>'holamundo.txt'</code> indica la ruta del archivo que desea abrir (en caso de que este archivo no exista lo crea). El segundo parámetro <code>'w'</code> indica que acción realizará con el archivo, en este caso la <code>'w'</code> indica que se abrirá el archivo con el fin de escribir en él. Se asigna esta instrucción a una variable <code>f</code> con la que nos comunicaremos para hacer cada tarea.\n",
    "        </li>\n",
    "        <li><code>f.write('hola mundo\\n')</code>: Función con la se escribe en el archivo texto. Dentro de la función se ingresael texto, el cual puede ser también una variable.\n",
    "        </li>\n",
    "        <li><code>f.close()</code>: Una vez se haya terminado de trabajar con el archivo, es importante cerrarlo y gracias a este comando se logra esto. Si se utiliza el comando <code>with</code> este se omite.\n",
    "        </li>\n",
    "    </ol>\n",
    "    Es importante destacar que este comando reescribe por completo el archivo, por lo que si se utiliza <code>'w'</code> eliminará todo el contenido ya existente en el archivo y escribirá el nuevo. En el caso de que se desee escribir al final del texto ya existente se puede reemplazar la <code>'w'</code> por <code>'a'</code>.\n",
    "</p>"
   ]
  },
  {
   "cell_type": "code",
   "execution_count": 24,
   "id": "89a81f84-bcbe-4f5e-be90-f8967880344b",
   "metadata": {},
   "outputs": [],
   "source": [
    "f = open('holamundo.txt','a')\n",
    "f.write('\\nhola mundo')\n",
    "f.close()"
   ]
  },
  {
   "cell_type": "markdown",
   "id": "a475221c-184c-42d0-91ca-a5247ef23072",
   "metadata": {},
   "source": [
    "<h2>Lectura de archivos</h2>\n",
    "<p>\n",
    "    La escritura de archivos es vital a la hora de guardar información y datos generados en el código de forma local y si se requieren para otra proceso, pero antes de eso, de algún lugar debemos consumir la información. Es por esto que en este punto se explicará y mostrará la forma de leer un archivo. A continuación, se entrega la función que permite esto:\n",
    "</p>"
   ]
  },
  {
   "cell_type": "code",
   "execution_count": 25,
   "id": "c61d95d8-8818-469d-bb05-187dd8294f4d",
   "metadata": {},
   "outputs": [
    {
     "name": "stdout",
     "output_type": "stream",
     "text": [
      "hola mundo\n",
      "chao mundo\n",
      "hola mundo\n"
     ]
    }
   ],
   "source": [
    "with open('holamundo.txt','r') as f:\n",
    "    mensaje = f.read()\n",
    "    print(mensaje)"
   ]
  },
  {
   "cell_type": "markdown",
   "id": "86bb36ad-e7fd-4696-a1f1-70a7870ea0c9",
   "metadata": {},
   "source": [
    "<p>\n",
    "    Podemos observar que las funciones entre lectura y escritura (agregar o sobreescribir) son muy similares, con la diferencia de que en lectura, en lugar de usar el comando <code>f.write()</code> se utiliza el de <code>f.read()</code>. Este último comando permite leer el contenido del texto y lo podemos almacenar en una variable para poder utilizarlo de la forma que necesitemos. En este caso se agrega la función de <code>print()</code> para mostrar el contenido del texto imprimiendo la varible en la que se almacenó.\n",
    "</p>"
   ]
  },
  {
   "cell_type": "markdown",
   "id": "9d89afc7-4f22-4b8f-a9cd-127e7caeb183",
   "metadata": {},
   "source": [
    "<h3>Lectura en profundidad</h3>\n",
    "<p>\n",
    "    Al momento de leer un archivo, primero se debe abrir, se debe considerar que todo este trabajo es similar a si una persona hiciera esto directamente. El usuario, una vez abre el archivo, puede ir navegando por él y posicionado su cursor en distintas líneas. Python trabaja de forma muy similar. Cuando Python abre el archivo, el cursos siempre empieza en la primera posición del documento y, dependiendo del comando utilizado, uno puede ir extrayendo el texto completo, linea por linea e incluso carácter por carácter.\n",
    "</p>\n",
    "<center>\n",
    "    <img src=\"https://media1.giphy.com/media/3o6MblAa0uE3a77V5K/giphy.gif?cid=ecf05e471olve054kiwd1fj8eascvomqzswj5a9py5bnyvba&rid=giphy.gif&ct=g\">\n",
    "</center>\n",
    "<p>\n",
    "    Hasta el momento se ha visto como leer un archivo y, si bien, pareciera que con el comando <code>read()</code> se leyera el archivo completo, tecnicamente no es así. Para entender por qué ocurre esto, es importante mencionar que existen tres formas de leer un archivo: <code>read()</code>, <code>readline()</code> y <code>readlines()</code>. A continuación se entrega el detalle de cada una de estas:\n",
    "    <ul>\n",
    "    <li><code>read()</code>: Comando utilizado en el ejemplo anterior para leer un archivo. Este comando lee desde la posición en la que se encuentra el cursos, hasta el final del documento.\n",
    "        <center><img src=\"./images/read_command.png\"></center></li>\n",
    "    </ul>\n",
    "    <li><code>readline()</code>: Permite leer una sola línea de texto y desde el punto que quedó el cursor hasta el final de la línea.\n",
    "        <center><img src=\"./images/readline_command.png\"></center></li>\n",
    "    </ul>\n",
    "    <li><code>readlines()</code>: Similar al caso anterior, lee una línea, pero lo hace de manera cíclica, leyendo todo el documento (o desde el último punto en el que haya quedado posicionado el cursor) y cada línea la guardar de manera separada en una lista.\n",
    "        <center><img src=\"./images/readlines_command.png\"></center></li>\n",
    "    </ul>\n",
    "</p>\n",
    "<p>\n",
    "    Es importante destacar que, sin importar cual sea el caso, si algunas de estas funciones es utilizada estando el cursor en la última línea del documento, devolverá un espacio en blanco, es decir: \"\".\n",
    "</p>\n",
    "<p>\n",
    "    Para entender mejor su funcionamiento, a continuación se entregan las funciones sobre el mismo documento mostrado en el ejemplo:\n",
    "</p>"
   ]
  },
  {
   "cell_type": "markdown",
   "id": "624fb738-dca5-4c24-ae37-53e4759cd8cd",
   "metadata": {},
   "source": [
    "<h3>Ejemplo funciones de lectura</h3>\n",
    "<p>\n",
    "    Para este caso se trabajará con un documento llamado \"saludo.txt\". El texto que contiene es el siguiente:\n",
    "</p>\n",
    "<p>\n",
    "<code>Hola a todos !\n",
    "Como estan?\n",
    "Espero que tengan un buen dia\n",
    "Y que les vaya bien</code>\n",
    "</p>"
   ]
  },
  {
   "cell_type": "markdown",
   "id": "772a2776-77cb-4ed8-bacd-8fbf97e1ba93",
   "metadata": {},
   "source": [
    "<h4>Uso de <code>read()</code> & <code>readline()</code></h4>"
   ]
  },
  {
   "cell_type": "code",
   "execution_count": 9,
   "id": "74855037-61cf-4c8c-83dd-8a27d2b8946e",
   "metadata": {},
   "outputs": [
    {
     "name": "stdout",
     "output_type": "stream",
     "text": [
      "mensaje 1:\n",
      "Hola a todos !\n",
      "\n",
      "mensaje 2:\n",
      "Como estan?\n",
      "\n",
      "mensaje 3:\n",
      "Espero que tengan un buen dia\n",
      "Y que les vaya bien\n",
      "mensaje 4:\n",
      "\n"
     ]
    }
   ],
   "source": [
    "with open('saludo.txt','r') as f:\n",
    "    # Dado que el documento acaba de ser abierto, esta función leerá una sola línea y será la primera\n",
    "    mensaje1 = f.readline()\n",
    "    print(\"mensaje 1:\\n\" + mensaje1)\n",
    "    \n",
    "    # Ya habiendo leído la primera línea, el cursor parte desde la segunda y es esta misma la que devuelve esta función.\n",
    "    mensaje2 = f.readline()\n",
    "    print(\"mensaje 2:\\n\" + mensaje2)\n",
    "    \n",
    "    # El curso ahora se encuentra en la tercera línea y, dado que ahora se utiliza \"read()\" se lee desde este punto\n",
    "    # hasta el final del documento\n",
    "    mensaje3 = f.read()\n",
    "    print(\"mensaje 3:\\n\" + mensaje3)\n",
    "    \n",
    "    # Ya habiendo leído el documento completo, el cursor se posiciona en el última lugar posible,\n",
    "    # por lo que el resultado de esta función será un espacio en blanco (\"\").\n",
    "    mensaje4 = f.read()\n",
    "    print(\"mensaje 4:\\n\" + mensaje4)"
   ]
  },
  {
   "cell_type": "markdown",
   "id": "61ba3a79-32d4-4e6c-86a3-a3ef7f90a52b",
   "metadata": {},
   "source": [
    "<p>\n",
    "    Tal como se mencionó en su momento, con cada lectura se recorre el documento\n",
    "    <ol>\n",
    "        <li>Primero se imprime la primera línea con <code>readline()</code> que corresponde a <code>Hola a todos !</code>, además posiciona el cursor al final de esta misma línea.</li>\n",
    "        <li>Partiendo desde la posición que quedó, imprime la segunda línea usando el mismo comando que antes, devolviendo como resultado <code>Como estan?</code></li>\n",
    "        <li>El penultimo paso, dado que utiliza la función <code>read()</code>, termina de leer documento partiendo desde la posición que quedó hasta la última línea.</li>\n",
    "        <li>Por último, se vuelve a llamar la función <code>read()</code>, pero dado que el cursor ya se encuentra en la última línea y no queda nada más para leer, solo devuelve un carácter vacío (\"\").</li>\n",
    "    </ol>\n",
    "    Dado que estas son todas las tareas que tiene el <code>with</code>, una vez las termina de ejecutar se cierra el documento.\n",
    "</p>"
   ]
  },
  {
   "cell_type": "markdown",
   "id": "defb36c7-e6f1-4592-b0ee-89279b3a4d98",
   "metadata": {},
   "source": [
    "<h4>Uso de <code>realines()</code></h4>\n",
    "<p>\n",
    "    Esta función nos permitirá leer todo el documento (o desde el punto en el que se encuentre el cursor) y almacenar cada línea de este en una lista, cada una como string. A continuación se entrega un ejemplo usando el mismo documento del caso anterior.\n",
    "</p>"
   ]
  },
  {
   "cell_type": "code",
   "execution_count": 15,
   "id": "f3886bac-1f28-4a72-a4d9-317c019f2af3",
   "metadata": {},
   "outputs": [
    {
     "name": "stdout",
     "output_type": "stream",
     "text": [
      "El documento tiene 4 líneas.\n",
      "\n",
      "Documento (lista de líneas):\n",
      "['Hola a todos !\\n', 'Como estan?\\n', 'Espero que tengan un buen dia\\n', 'Y que les vaya bien']\n"
     ]
    }
   ],
   "source": [
    "with open('saludo.txt','r') as f:\n",
    "    lista = f.readlines()\n",
    "print(\"El documento tiene \" + str(len(lista)) + \" líneas.\")\n",
    "print(\"\\nDocumento (lista de líneas):\")\n",
    "print(lista)"
   ]
  },
  {
   "cell_type": "markdown",
   "id": "263181c0-7be2-467d-b6e5-316753eb1658",
   "metadata": {},
   "source": [
    "<p>\n",
    "    En este caso todo el documento y cada línea de él pasa a ser un elemento de una lista, que está ordenada de la misma forma en la que se ubica cada fila dentro del archivo.\n",
    "</p>\n",
    "<p>\n",
    "    También se pueden combinar las funciones anteriores con esta, por ejemplo, si necesitamos leer un archivo que contiene datos con su encabezado correspondiente y valores, podemos primero usar <code>readline()</code>, para extraer el encabezado y luego utilizamos <code>readlines()</code> para el resto del documento como lista.\n",
    "</p>"
   ]
  },
  {
   "cell_type": "code",
   "execution_count": 17,
   "id": "cf26d6d3-e7cb-4eb3-bae0-9c40692824cf",
   "metadata": {},
   "outputs": [
    {
     "name": "stdout",
     "output_type": "stream",
     "text": [
      "El encabezado del documento es:\n",
      "producto,cantidad,valor\n",
      "\n",
      "Los valores del documento son:\n",
      "['esponjas,30,500\\n', 'confort,50,1000\\n', 'pan,1.5,1000']\n"
     ]
    }
   ],
   "source": [
    "with open('ventas.txt','r') as f:\n",
    "    encabezados = f.readline()\n",
    "    valores = f.readlines()\n",
    "print(\"El encabezado del documento es:\")\n",
    "print(encabezados)\n",
    "print(\"Los valores del documento son:\")\n",
    "print(valores)"
   ]
  },
  {
   "cell_type": "markdown",
   "id": "ce0c302b-7fbf-400c-9f6c-94695f19c102",
   "metadata": {},
   "source": [
    "<p>\n",
    "    Existen muchas otras formas en las que se pueden utilizar estos comandos, todo depende de lo que se necesite hacer.\n",
    "    <center><img src=\"https://media4.giphy.com/media/DfSXiR60W9MVq/giphy.gif?cid=ecf05e47id36obhex2rruet4aip4ruem8rwhj0cocdaqol9d&rid=giphy.gif&ct=g\"></center>\n",
    "</p>"
   ]
  },
  {
   "cell_type": "markdown",
   "id": "7ef45a47-bff5-4827-82b8-d0e6b1657920",
   "metadata": {},
   "source": [
    "<h2>Ejercicios de práctica</h2>\n",
    "<p>\n",
    "    <ol>\n",
    "        <li>Siento que ya he visto este archivo antes... ¡Veamos si es verdad! Se requiere tener un programa que compare dos archivos leyendo el contenido de ambos y devuelva un mensaje indicando si ambos archivos son exactamente iguales o distintos. Para este caso considerar que los nombres de los documentos son <code>archivo1.txt</code> y <code>archivo2.txt</code></li>\n",
    "        <li>¡El mundo al revés! Se pide crear un programa que lea un documento llamado <code>orden.txt</code>. Este programa deberá invertir el orden del texto que se encuentra en cada línea del documento y escribirla en un archivo llamado <code>desorden.txt</code>. Las líneas deben se escritas en el mismo orden que en el documento original.\n",
    "        <pre>Ejemplo:\n",
    "        <strong>Entrada:</strong>\n",
    "        Hola mundo !\n",
    "        Como estan?\n",
    "        Espero que bien !\n",
    "        <strong>Salida:</strong>\n",
    "        ! odnum aloH\n",
    "        ?natse omoC\n",
    "        ! neib euq orepsE\n",
    "        </pre>\n",
    "        </li>\n",
    "        <li>\n",
    "            ¿Cuántas vocales tenemos?... Se necesita conocer el número de vocales que tiene cada fila de un documento y para esto se le pide a usted que construya un programa que pueda leer un archivo de texto llamado <code>informe.txt</code>. La idea de esta función es que en un nuevo documento llamado <code>vocales.txt</code> escriba el número de veces que se repite cada vocal en cada línea, de acuerdo a la posición de esta en el documento original. También se pide adjuntar una fila adiciona al final del nuevo documento, en el que se entregue el total de cada una de las vocales que se encuentra en todo el documento. A continuación se entrega un ejemplo del forma de entrada y salida.\n",
    "        <pre>\n",
    "        <strong>Archivo \"informe.txt\" (Entrada):</strong>\n",
    "        <code>Hola mundo !\n",
    "        Como estan?\n",
    "        Espero que bien !\n",
    "        </code>\n",
    "        <strong>Archivo \"vocales.txt\" (Salida):</strong>\n",
    "        Línea 1 -> A: 1, E: 0, I: 0, O: 2, U: 1\n",
    "        Línea 2 -> A: 1, E: 1, I: 0, O: 2, U: 0\n",
    "        Línea 3 -> A: 0, E: 4, I: 1, O: 1, U: 1\n",
    "        Totales -> A: 2, E: 5, I: 1, O: 5, U: 2\n",
    "        </pre>\n",
    "        </li>\n",
    "    </ol>\n",
    "</p>"
   ]
  }
 ],
 "metadata": {
  "kernelspec": {
   "display_name": "Python 3 (ipykernel)",
   "language": "python",
   "name": "python3"
  },
  "language_info": {
   "codemirror_mode": {
    "name": "ipython",
    "version": 3
   },
   "file_extension": ".py",
   "mimetype": "text/x-python",
   "name": "python",
   "nbconvert_exporter": "python",
   "pygments_lexer": "ipython3",
   "version": "3.9.12"
  }
 },
 "nbformat": 4,
 "nbformat_minor": 5
}
